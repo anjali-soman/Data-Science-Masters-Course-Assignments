{
 "cells": [
  {
   "cell_type": "markdown",
   "id": "240776f5-586b-4404-9b6b-a7d21886c320",
   "metadata": {},
   "source": [
    "#### Q1. You are writing code for a company. The requirement of the company is that you create a python function that will check whether the password entered by the user is correct or not. The function should take the password as input and return the string “Valid Password” if the entered password follows the below-given password guidelines else it should return “Invalid Password”.\n",
    "#### Note: \n",
    "#### 1. The Password should contain at least two uppercase letters and at least two lowercase letters.\n",
    "#### 2. The Password should contain at least a number and three special characters.\n",
    "#### 3. The length of the password should be 10 characters long."
   ]
  },
  {
   "cell_type": "code",
   "execution_count": 3,
   "id": "90f857db-00c8-474a-b196-dc7a19f0e75b",
   "metadata": {},
   "outputs": [
    {
     "name": "stdin",
     "output_type": "stream",
     "text": [
      "Enter password :  ANju@#$101\n"
     ]
    },
    {
     "name": "stdout",
     "output_type": "stream",
     "text": [
      "Valid Password\n"
     ]
    }
   ],
   "source": [
    "pwd = input('Enter password : ')\n",
    "\n",
    "def password(pwd):\n",
    "    upper_count = 0\n",
    "    lower_count = 0\n",
    "    number_count = 0\n",
    "    special_char = 0\n",
    "    for i in pwd:\n",
    "        if i.isupper() == True:\n",
    "            upper_count = upper_count + 1\n",
    "        elif i.islower() == True:\n",
    "            lower_count = lower_count + 1\n",
    "        elif i.isdigit() == True:\n",
    "            number_count = number_count + 1\n",
    "        else :\n",
    "            special_char = special_char + 1\n",
    "    if upper_count >= 2 and lower_count >= 2 and number_count >= 1 and special_char >= 3 and len(pwd) >= 10:\n",
    "        return 'Valid Password'\n",
    "\n",
    "print(password(pwd))"
   ]
  },
  {
   "cell_type": "markdown",
   "id": "8876c7f6-e3cb-46ba-8c6b-11e690005efd",
   "metadata": {},
   "source": [
    "#### ______________________________________________________________________________________________________________________________________________________"
   ]
  },
  {
   "cell_type": "markdown",
   "id": "3b230317-509e-4f2f-b111-5fe964347db1",
   "metadata": {},
   "source": [
    "#### Q2. Solve the below-given questions using at least one of the following:\n",
    "1. Lambda function\n",
    "2. Filter function\n",
    "3. Zap function\n",
    "4. List Comprehension\n",
    "\n",
    "- Check if the string starts with a particular letter\n",
    "- Check if the string is numeric\n",
    "- Sort a list of tuples having fruit names and their quantity. [(\"mango\",99),(\"orange\",80), (\"grapes\", 1000)]\n",
    "- Find the squares of numbers from 1 to 10\n",
    "- Find the cube root of numbers from 1 to 10\n",
    "- Check if a given number is even\n",
    "- Filter odd numbers from the given list.\n",
    "[1,2,3,4,5,6,7,8,9,10]\n",
    "- Sort a list of integers into positive and negative integers lists.\n",
    "[1,2,3,4,5,6,-1,-2,-3,-4,-5,0]"
   ]
  },
  {
   "cell_type": "markdown",
   "id": "8cdd2beb-5b0c-4472-aab7-eff15a52c916",
   "metadata": {},
   "source": [
    "##### 1. Check if the string starts with a particular letter using list comprehension:"
   ]
  },
  {
   "cell_type": "code",
   "execution_count": 4,
   "id": "5ecce217-4331-4c96-bc90-8c0ee997f866",
   "metadata": {},
   "outputs": [
    {
     "name": "stdout",
     "output_type": "stream",
     "text": [
      "['apple']\n"
     ]
    }
   ],
   "source": [
    "strings = ['apple', 'banana', 'orange', 'mango']\n",
    "letter = 'a'\n",
    "result = [s for s in strings if s.startswith(letter)]\n",
    "print(result)"
   ]
  },
  {
   "cell_type": "markdown",
   "id": "18413e68-dbb4-4575-8567-5982899c8a1d",
   "metadata": {},
   "source": [
    "##### 2. Check if the string is numeric using lambda function and isnumeric() method:"
   ]
  },
  {
   "cell_type": "code",
   "execution_count": 5,
   "id": "3113de04-d9cd-475b-ad29-7f419d245a60",
   "metadata": {},
   "outputs": [
    {
     "name": "stdout",
     "output_type": "stream",
     "text": [
      "['123']\n"
     ]
    }
   ],
   "source": [
    "strings = ['123', 'abc', '3.14', '1e3', '-42']\n",
    "result = list(filter(lambda s: s.isnumeric(), strings))\n",
    "print(result)"
   ]
  },
  {
   "cell_type": "markdown",
   "id": "9aa71bab-330c-4a3b-8865-53a358b47cfa",
   "metadata": {},
   "source": [
    "##### 3. Sort a list of tuples having fruit names and their quantity using lambda function:"
   ]
  },
  {
   "cell_type": "code",
   "execution_count": 6,
   "id": "58076040-f21d-45a9-9d97-b18c4cc244cc",
   "metadata": {},
   "outputs": [
    {
     "name": "stdout",
     "output_type": "stream",
     "text": [
      "[('orange', 80), ('mango', 99), ('grapes', 1000)]\n"
     ]
    }
   ],
   "source": [
    "fruits = [(\"mango\",99),(\"orange\",80), (\"grapes\", 1000)]\n",
    "result = sorted(fruits, key=lambda x: x[1])\n",
    "print(result)"
   ]
  },
  {
   "cell_type": "markdown",
   "id": "ede17133-52de-4e49-a2f7-93badefba112",
   "metadata": {},
   "source": [
    "##### 4. Find the squares of numbers from 1 to 10 using list comprehension:"
   ]
  },
  {
   "cell_type": "code",
   "execution_count": 8,
   "id": "44e7f998-ebfd-48ff-b9b4-aed62a849370",
   "metadata": {},
   "outputs": [
    {
     "name": "stdout",
     "output_type": "stream",
     "text": [
      "[1, 4, 9, 16, 25, 36, 49, 64, 81, 100]\n"
     ]
    }
   ],
   "source": [
    "result = [x**2 for x in range(1, 11)]\n",
    "print(result)"
   ]
  },
  {
   "cell_type": "markdown",
   "id": "66517c5e-8b41-4afa-94e4-a5acfb478c2e",
   "metadata": {},
   "source": [
    "##### 5. Find the cube root of numbers from 1 to 10 using map function and lambda function:"
   ]
  },
  {
   "cell_type": "code",
   "execution_count": 9,
   "id": "ba229a34-862f-4745-90cb-9c1a5caa9d44",
   "metadata": {},
   "outputs": [
    {
     "name": "stdout",
     "output_type": "stream",
     "text": [
      "[1.0, 1.2599210498948732, 1.4422495703074083, 1.5874010519681994, 1.7099759466766968, 1.8171205928321397, 1.912931182772389, 2.0, 2.080083823051904, 2.154434690031884]\n"
     ]
    }
   ],
   "source": [
    "result = list(map(lambda x: x**(1/3), range(1, 11)))\n",
    "print(result)"
   ]
  },
  {
   "cell_type": "markdown",
   "id": "946ee08d-a60e-45c0-9980-316e91a0b21c",
   "metadata": {},
   "source": [
    "##### 6. Check if a given number is even using lambda function:"
   ]
  },
  {
   "cell_type": "code",
   "execution_count": 10,
   "id": "b214f49d-619d-43a9-bcae-de9af48e70cd",
   "metadata": {},
   "outputs": [
    {
     "name": "stdout",
     "output_type": "stream",
     "text": [
      "True\n"
     ]
    }
   ],
   "source": [
    "is_even = lambda x: x % 2 == 0\n",
    "result = is_even(42)\n",
    "print(result)"
   ]
  },
  {
   "cell_type": "markdown",
   "id": "03f7c7d8-21f9-4d24-a633-5df132da705c",
   "metadata": {},
   "source": [
    "##### 7. Filter odd numbers from the given list [1,2,3,4,5,6,7,8,9,10] using filter function and lambda function:"
   ]
  },
  {
   "cell_type": "code",
   "execution_count": 11,
   "id": "48035758-1dd0-4212-8fdc-bd68b4ecf2a2",
   "metadata": {},
   "outputs": [
    {
     "name": "stdout",
     "output_type": "stream",
     "text": [
      "[1, 3, 5, 7, 9]\n"
     ]
    }
   ],
   "source": [
    "numbers = [1,2,3,4,5,6,7,8,9,10]\n",
    "result = list(filter(lambda x: x % 2 != 0, numbers))\n",
    "print(result)"
   ]
  },
  {
   "cell_type": "markdown",
   "id": "bb57e5da-a41d-4741-ad4f-3e580c98c34d",
   "metadata": {},
   "source": [
    "##### 8. Sort a list of integers into positive and negative integers lists using filter function and lambda function:"
   ]
  },
  {
   "cell_type": "code",
   "execution_count": 12,
   "id": "1c18a8ce-4f24-4259-b354-feb35e0bfdef",
   "metadata": {},
   "outputs": [
    {
     "name": "stdout",
     "output_type": "stream",
     "text": [
      "([1, 2, 3, 4, 5, 6], [-1, -2, -3, -4, -5])\n"
     ]
    }
   ],
   "source": [
    "numbers = [1,2,3,4,5,6,-1,-2,-3,-4,-5,0]\n",
    "positive = list(filter(lambda x: x > 0, numbers))\n",
    "negative = list(filter(lambda x: x < 0, numbers))\n",
    "result = (positive, negative)\n",
    "print(result)"
   ]
  },
  {
   "cell_type": "markdown",
   "id": "f2d4da27-af89-4817-b29c-1d1a2b6f8dc5",
   "metadata": {},
   "source": [
    "#### ______________________________________________________________________________________________________________________________________________________"
   ]
  }
 ],
 "metadata": {
  "kernelspec": {
   "display_name": "Python 3 (ipykernel)",
   "language": "python",
   "name": "python3"
  },
  "language_info": {
   "codemirror_mode": {
    "name": "ipython",
    "version": 3
   },
   "file_extension": ".py",
   "mimetype": "text/x-python",
   "name": "python",
   "nbconvert_exporter": "python",
   "pygments_lexer": "ipython3",
   "version": "3.10.8"
  }
 },
 "nbformat": 4,
 "nbformat_minor": 5
}
