{
 "cells": [
  {
   "cell_type": "markdown",
   "id": "365c87cc-51b9-4637-b13b-d2b6bd8f5cf1",
   "metadata": {},
   "source": [
    "#### Q1. Which keyword is used to create a function? Create a function to return a list of odd numbers in the range of 1 to 25"
   ]
  },
  {
   "cell_type": "markdown",
   "id": "97cd01ec-f50b-438e-b84b-b2c4de035992",
   "metadata": {},
   "source": [
    "##### The keyword used to create a function in Python is \"def\". Here's an example function that returns a list of odd numbers in the range of 1 to 25:"
   ]
  },
  {
   "cell_type": "code",
   "execution_count": 4,
   "id": "6f5c38e5-81d7-4e78-92ba-37177f9518b1",
   "metadata": {},
   "outputs": [],
   "source": [
    "def get_odd_numbers():\n",
    "    odd_numbers = []\n",
    "    for i in range(1, 26):\n",
    "        if i % 2 == 1:\n",
    "            odd_numbers.append(i)\n",
    "    return odd_numbers"
   ]
  },
  {
   "cell_type": "code",
   "execution_count": 6,
   "id": "7779caf5-0cf9-47e1-a777-e83d997ba5ca",
   "metadata": {},
   "outputs": [
    {
     "data": {
      "text/plain": [
       "[1, 3, 5, 7, 9, 11, 13, 15, 17, 19, 21, 23, 25]"
      ]
     },
     "execution_count": 6,
     "metadata": {},
     "output_type": "execute_result"
    }
   ],
   "source": [
    "get_odd_numbers()"
   ]
  },
  {
   "cell_type": "markdown",
   "id": "4d5d3e95-f470-4495-9754-2eab7cf62dcf",
   "metadata": {},
   "source": [
    "#### ______________________________________________________________________________________________________________________________________________________"
   ]
  },
  {
   "cell_type": "markdown",
   "id": "304ee259-2c2d-4c20-9b20-3236ef3e75f8",
   "metadata": {},
   "source": [
    "#### Q2. Why *args and **kwargs is used in some functions? Create a function each for *args and **kwargs to demonstrate their use."
   ]
  },
  {
   "cell_type": "markdown",
   "id": "c576061d-1e34-4eeb-8165-67ceed1e1754",
   "metadata": {},
   "source": [
    "##### *args and **kwargs are used in functions to accept a variable number of arguments.\n",
    "\n",
    "##### *args allows a function to accept any number of positional arguments, which are then passed to the function as a tuple. Here's an example function that demonstrates the use of *args:"
   ]
  },
  {
   "cell_type": "code",
   "execution_count": 7,
   "id": "11fe2494-2434-44b4-b3bc-083e1d628681",
   "metadata": {},
   "outputs": [],
   "source": [
    "def concatenate_strings(*args):\n",
    "    result = ''\n",
    "    for i in args:\n",
    "        result += i\n",
    "    return result"
   ]
  },
  {
   "cell_type": "code",
   "execution_count": 8,
   "id": "2e5478b0-5a5b-4a1b-8005-97f0b7524ca4",
   "metadata": {},
   "outputs": [
    {
     "name": "stdout",
     "output_type": "stream",
     "text": [
      "Hello world!\n"
     ]
    }
   ],
   "source": [
    "print(concatenate_strings('Hello', ' ', 'world', '!'))"
   ]
  },
  {
   "cell_type": "markdown",
   "id": "345a0b57-a01b-42b6-a016-1862aa1e18cb",
   "metadata": {},
   "source": [
    "##### **kwargs allows a function to accept any number of keyword arguments, which are then passed to the function as a dictionary. Here's an example function that demonstrates the use of **kwargs:"
   ]
  },
  {
   "cell_type": "code",
   "execution_count": 9,
   "id": "7bb59cca-c33f-4622-b132-261c295ead65",
   "metadata": {},
   "outputs": [],
   "source": [
    "def print_kwargs(**kwargs):\n",
    "    for key, value in kwargs.items():\n",
    "        print(f'{key}: {value}')"
   ]
  },
  {
   "cell_type": "code",
   "execution_count": 10,
   "id": "b09c721c-60e7-41a7-a0a5-be45ac4abc38",
   "metadata": {},
   "outputs": [
    {
     "name": "stdout",
     "output_type": "stream",
     "text": [
      "Name: Anjali\n",
      "Age: 28\n",
      "City: Mumbai\n"
     ]
    }
   ],
   "source": [
    "print_kwargs(Name='Anjali', Age=28, City='Mumbai')"
   ]
  },
  {
   "cell_type": "markdown",
   "id": "77b04a21-87bf-414b-ad8c-62fd337743af",
   "metadata": {},
   "source": [
    "#### ______________________________________________________________________________________________________________________________________________________"
   ]
  },
  {
   "cell_type": "markdown",
   "id": "af03979b-3826-49d2-9504-5b84792ccf3f",
   "metadata": {},
   "source": [
    "#### Q3. What is an iterator in python? Name the method used to initialise the iterator object and the method used for iteration. Use these methods to print the first five elements of the given list [2, 4, 6, 8, 10, 12, 14, 16, 18, 20]."
   ]
  },
  {
   "cell_type": "markdown",
   "id": "c41b1088-0e21-4902-b671-c59d0bebce91",
   "metadata": {},
   "source": [
    "##### An iterator is an object that can be iterated (looped) upon, returning one element at a time. It generates values on the go and does not store the values in memory. Iterators are used to iterate over sequences such as lists, tuples, and dictionaries.\n",
    "\n",
    "##### The 'iter()' method is used to initialize an iterator object, and the 'next()' method is used to iterate over the elements. Here's an example that demonstrates how to print the first five elements of the given list [2, 4, 6, 8, 10, 12, 14, 16, 18, 20] using an iterator:"
   ]
  },
  {
   "cell_type": "code",
   "execution_count": 11,
   "id": "b1d5e4c0-00c1-4446-be56-3c8ecfaf6078",
   "metadata": {},
   "outputs": [
    {
     "name": "stdout",
     "output_type": "stream",
     "text": [
      "2\n",
      "4\n",
      "6\n",
      "8\n",
      "10\n"
     ]
    }
   ],
   "source": [
    "list1 = [2, 4, 6, 8, 10, 12, 14, 16, 18, 20]\n",
    "\n",
    "iterator = iter(list1)\n",
    "\n",
    "for i in range(5):\n",
    "    print(next(iterator))"
   ]
  },
  {
   "cell_type": "markdown",
   "id": "272c3165-6e88-46aa-837d-4cf737ca7967",
   "metadata": {},
   "source": [
    "#### ______________________________________________________________________________________________________________________________________________________"
   ]
  },
  {
   "cell_type": "markdown",
   "id": "69c6b20b-1e0c-4748-afb9-5cd15c30928b",
   "metadata": {},
   "source": [
    "#### Q4. What is a generator function in python? Why yield keyword is used? Give an example of a generator function."
   ]
  },
  {
   "cell_type": "markdown",
   "id": "b082fef2-1f9e-4e84-b9e7-3c23cca34228",
   "metadata": {},
   "source": [
    "##### A generator function is a special type of function that returns an iterator, which can be used to iterate over a sequence of values. The main difference between a regular function and a generator function is that a generator function uses the yield keyword to return values one at a time, instead of returning them all at once.\n",
    "\n",
    "##### The yield keyword is used in a generator function to yield a value to the caller, while preserving the state of the function. When a value is yielded, the function is paused, and the state of the function is saved. The next time the function is called, it resumes from where it left off, using the saved state to continue its execution.\n",
    "\n",
    "##### Here's an example of a generator function that generates a sequence of even numbers:"
   ]
  },
  {
   "cell_type": "code",
   "execution_count": 1,
   "id": "69aa5171-80a9-4d3e-86fa-5ba8db43ab2d",
   "metadata": {},
   "outputs": [],
   "source": [
    "def generate_even_numbers(n):\n",
    "    i = 0\n",
    "    while i < n:\n",
    "        yield i * 2\n",
    "        i += 1"
   ]
  },
  {
   "cell_type": "code",
   "execution_count": 2,
   "id": "94e4e32a-fa53-4b8d-bc61-b03a8f873b14",
   "metadata": {},
   "outputs": [
    {
     "name": "stdout",
     "output_type": "stream",
     "text": [
      "0\n",
      "2\n",
      "4\n",
      "6\n",
      "8\n"
     ]
    }
   ],
   "source": [
    "for num in generate_even_numbers(5):\n",
    "    print(num)"
   ]
  },
  {
   "cell_type": "markdown",
   "id": "89777eaf-d3ba-425d-ad8c-e035a6297bd7",
   "metadata": {},
   "source": [
    "#### ______________________________________________________________________________________________________________________________________________________"
   ]
  },
  {
   "cell_type": "markdown",
   "id": "0a23403d-0464-41e3-90e7-9bf5dd18d7e2",
   "metadata": {},
   "source": [
    "#### Q5. Create a generator function for prime numbers less than 1000. Use the next() method to print the first 20 prime numbers."
   ]
  },
  {
   "cell_type": "code",
   "execution_count": 3,
   "id": "168de679-5ef8-4323-8ce6-3f045fccfbc2",
   "metadata": {},
   "outputs": [],
   "source": [
    "def gen_primes():\n",
    "    yield 2\n",
    "    primes = [2]\n",
    "    num = 3\n",
    "    while num < 1000:\n",
    "        is_prime = True\n",
    "        for prime in primes:\n",
    "            if prime > num ** 0.5:\n",
    "                break\n",
    "            if num % prime == 0:\n",
    "                is_prime = False\n",
    "                break\n",
    "        if is_prime:\n",
    "            primes.append(num)\n",
    "            yield num\n",
    "        num += 2"
   ]
  },
  {
   "cell_type": "code",
   "execution_count": 4,
   "id": "2c420913-47a8-4111-9547-f7d587ce18fc",
   "metadata": {},
   "outputs": [
    {
     "name": "stdout",
     "output_type": "stream",
     "text": [
      "2\n",
      "3\n",
      "5\n",
      "7\n",
      "11\n",
      "13\n",
      "17\n",
      "19\n",
      "23\n",
      "29\n",
      "31\n",
      "37\n",
      "41\n",
      "43\n",
      "47\n",
      "53\n",
      "59\n",
      "61\n",
      "67\n",
      "71\n"
     ]
    }
   ],
   "source": [
    "gen = gen_primes()\n",
    "for i in range(20):\n",
    "    print(next(gen))"
   ]
  },
  {
   "cell_type": "markdown",
   "id": "fb9f6601-53af-4af5-9212-49851d2b58af",
   "metadata": {},
   "source": [
    "#### ______________________________________________________________________________________________________________________________________________________"
   ]
  },
  {
   "cell_type": "markdown",
   "id": "d09dff5b-fef2-4cb5-a5d5-5b1ab762b130",
   "metadata": {},
   "source": [
    "#### Q6. Write a python program to print the first 10 Fibonacci numbers using a while loop."
   ]
  },
  {
   "cell_type": "code",
   "execution_count": 1,
   "id": "4ac783b3-c341-40bf-801f-12a62e8a0d7f",
   "metadata": {},
   "outputs": [
    {
     "name": "stdout",
     "output_type": "stream",
     "text": [
      "0 1 1 2 3 5 8 13 21 34 "
     ]
    }
   ],
   "source": [
    "a, b = 0, 1\n",
    "count = 0\n",
    "\n",
    "while count < 10:\n",
    "    print(a, end=' ')\n",
    "    c = a + b\n",
    "    a = b\n",
    "    b = c\n",
    "    count += 1"
   ]
  },
  {
   "cell_type": "markdown",
   "id": "176daefa-ca7b-4f5b-93d7-8eb2ca331b67",
   "metadata": {},
   "source": [
    "#### ______________________________________________________________________________________________________________________________________________________"
   ]
  },
  {
   "cell_type": "markdown",
   "id": "1ee5d423-a602-43d4-8f8f-d569a166b00e",
   "metadata": {},
   "source": [
    "#### Q7. Write a List Comprehension to iterate through the given string: ‘pwskills’. Expected output: ['p', 'w', 's', 'k', 'i', 'l', 'l', 's']"
   ]
  },
  {
   "cell_type": "code",
   "execution_count": 2,
   "id": "b70334c3-6b0a-4749-8cdc-88a7a4d92db8",
   "metadata": {},
   "outputs": [
    {
     "name": "stdout",
     "output_type": "stream",
     "text": [
      "['p', 'w', 's', 'k', 'i', 'l', 'l', 's']\n"
     ]
    }
   ],
   "source": [
    "string = 'pwskills'\n",
    "result = [i for i in string if i in 'pwskills']\n",
    "print(result)"
   ]
  },
  {
   "cell_type": "markdown",
   "id": "5bb68f51-94c9-4969-b125-0627c2ef941a",
   "metadata": {},
   "source": [
    "#### ______________________________________________________________________________________________________________________________________________________"
   ]
  },
  {
   "cell_type": "markdown",
   "id": "52801280-0d50-4c36-8a0f-ce35f6632495",
   "metadata": {},
   "source": [
    "#### Q8. Write a python program to check whether a given number is Palindrome or not using a while loop."
   ]
  },
  {
   "cell_type": "code",
   "execution_count": 3,
   "id": "9384eb3f-2e7b-4053-a0bb-830d2516c3be",
   "metadata": {},
   "outputs": [
    {
     "name": "stdin",
     "output_type": "stream",
     "text": [
      "Enter a number:  254657\n"
     ]
    },
    {
     "name": "stdout",
     "output_type": "stream",
     "text": [
      "254657 is not a palindrome\n"
     ]
    }
   ],
   "source": [
    "num = int(input(\"Enter a number: \"))\n",
    "temp = num\n",
    "reverse_num = 0\n",
    "\n",
    "while temp != 0:\n",
    "    digit = temp % 10\n",
    "    reverse_num = reverse_num * 10 + digit\n",
    "    temp //= 10\n",
    "\n",
    "if num == reverse_num:\n",
    "    print(num, \"is a palindrome\")\n",
    "else:\n",
    "    print(num, \"is not a palindrome\")"
   ]
  },
  {
   "cell_type": "markdown",
   "id": "a1156547-06dd-4878-8e3c-61d803ae7904",
   "metadata": {},
   "source": [
    "#### ______________________________________________________________________________________________________________________________________________________"
   ]
  },
  {
   "cell_type": "markdown",
   "id": "6d234b49-75ab-44af-b1fc-74f745204e5d",
   "metadata": {},
   "source": [
    "#### Q9. Write a code to print odd numbers from 1 to 100 using list comprehension.\n",
    "#### Note: Use a list comprehension to create a list from 1 to 100 and use another List comprehension to filter out odd numbers."
   ]
  },
  {
   "cell_type": "code",
   "execution_count": 4,
   "id": "9dc04a27-6fe4-4e3f-87be-108b398300f5",
   "metadata": {},
   "outputs": [
    {
     "name": "stdout",
     "output_type": "stream",
     "text": [
      "[1, 3, 5, 7, 9, 11, 13, 15, 17, 19, 21, 23, 25, 27, 29, 31, 33, 35, 37, 39, 41, 43, 45, 47, 49, 51, 53, 55, 57, 59, 61, 63, 65, 67, 69, 71, 73, 75, 77, 79, 81, 83, 85, 87, 89, 91, 93, 95, 97, 99]\n"
     ]
    }
   ],
   "source": [
    "odd_numbers = [i for i in range(1, 101) if i % 2 != 0]\n",
    "print(odd_numbers)"
   ]
  },
  {
   "cell_type": "markdown",
   "id": "3d5b7898-4eda-42d0-a5da-f65cb81d1e4c",
   "metadata": {},
   "source": [
    "#### ______________________________________________________________________________________________________________________________________________________"
   ]
  }
 ],
 "metadata": {
  "kernelspec": {
   "display_name": "Python 3 (ipykernel)",
   "language": "python",
   "name": "python3"
  },
  "language_info": {
   "codemirror_mode": {
    "name": "ipython",
    "version": 3
   },
   "file_extension": ".py",
   "mimetype": "text/x-python",
   "name": "python",
   "nbconvert_exporter": "python",
   "pygments_lexer": "ipython3",
   "version": "3.10.8"
  }
 },
 "nbformat": 4,
 "nbformat_minor": 5
}
