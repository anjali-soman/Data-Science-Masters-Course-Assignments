{
 "cells": [
  {
   "cell_type": "markdown",
   "id": "0b353ec5-fa70-412a-97c6-f7d048f2df5b",
   "metadata": {},
   "source": [
    "#### Q1. Create a vehicle class with an init method having instance variables as name_of_vehicle, max_speed and average_of_vehicle."
   ]
  },
  {
   "cell_type": "code",
   "execution_count": 1,
   "id": "3540d116-a25e-4829-b050-af38f160e9dc",
   "metadata": {},
   "outputs": [],
   "source": [
    "class Vehicle:\n",
    "    def __init__(self, name_of_vehicle, max_speed, average_of_vehicle):\n",
    "        self.name_of_vehicle = name_of_vehicle\n",
    "        self.max_speed = max_speed\n",
    "        self.average_of_vehicle = average_of_vehicle"
   ]
  },
  {
   "cell_type": "code",
   "execution_count": 2,
   "id": "bf0db77e-b59b-4cab-b724-216cd4ea6a84",
   "metadata": {},
   "outputs": [],
   "source": [
    "car = Vehicle(\"Toyota\", 200, 80)"
   ]
  },
  {
   "cell_type": "code",
   "execution_count": 4,
   "id": "295d1a91-778c-4d30-adf9-153cd4ed4372",
   "metadata": {},
   "outputs": [
    {
     "data": {
      "text/plain": [
       "'Toyota'"
      ]
     },
     "execution_count": 4,
     "metadata": {},
     "output_type": "execute_result"
    }
   ],
   "source": [
    "car.name_of_vehicle"
   ]
  },
  {
   "cell_type": "code",
   "execution_count": 5,
   "id": "6b70cf9d-dd32-4900-9e2e-72e36d10591a",
   "metadata": {},
   "outputs": [
    {
     "data": {
      "text/plain": [
       "200"
      ]
     },
     "execution_count": 5,
     "metadata": {},
     "output_type": "execute_result"
    }
   ],
   "source": [
    "car.max_speed"
   ]
  },
  {
   "cell_type": "code",
   "execution_count": 6,
   "id": "6ec5a2fa-b8c6-4636-904e-715171c7a67a",
   "metadata": {},
   "outputs": [
    {
     "data": {
      "text/plain": [
       "80"
      ]
     },
     "execution_count": 6,
     "metadata": {},
     "output_type": "execute_result"
    }
   ],
   "source": [
    "car.average_of_vehicle"
   ]
  },
  {
   "cell_type": "markdown",
   "id": "0dc6e724-f06e-48d1-9d82-3ead4a834616",
   "metadata": {},
   "source": [
    "#### ______________________________________________________________________________________________________________________________________________________"
   ]
  },
  {
   "cell_type": "markdown",
   "id": "1b89457c-c167-4272-a624-39734d9e3f3c",
   "metadata": {},
   "source": [
    "#### Q2. Create a child class car from the vehicle class created in Que 1, which will inherit the vehicle class. Create a method named seating_capacity which takes capacity as an argument and returns the name of the vehicle and its seating capacity."
   ]
  },
  {
   "cell_type": "code",
   "execution_count": 7,
   "id": "009067f1-8bb5-4040-9d4c-136c67bd56b3",
   "metadata": {},
   "outputs": [],
   "source": [
    "class Car(Vehicle):\n",
    "    def seating_capacity(self, capacity):\n",
    "        return f\"{self.name_of_vehicle} has a seating capacity of {capacity} passengers.\""
   ]
  },
  {
   "cell_type": "code",
   "execution_count": 8,
   "id": "62cfb3fb-b241-45d4-9afb-ea4f959eeb51",
   "metadata": {},
   "outputs": [
    {
     "name": "stdout",
     "output_type": "stream",
     "text": [
      "Toyota has a seating capacity of 5 passengers.\n"
     ]
    }
   ],
   "source": [
    "car = Car(\"Toyota\", 200, 80)\n",
    "print(car.seating_capacity(5))"
   ]
  },
  {
   "cell_type": "markdown",
   "id": "e22bb182-2cc1-4226-8a5e-15a38d3ce5f8",
   "metadata": {},
   "source": [
    "#### ______________________________________________________________________________________________________________________________________________________"
   ]
  },
  {
   "cell_type": "markdown",
   "id": "14527cc3-461b-437c-95b7-e53c4bf783c1",
   "metadata": {},
   "source": [
    "#### Q3. What is multiple inheritance? Write a python code to demonstrate multiple inheritance."
   ]
  },
  {
   "cell_type": "markdown",
   "id": "e8f6fcf8-1638-4576-9c41-b229088d1340",
   "metadata": {},
   "source": [
    "##### Multiple inheritance is a feature in object-oriented programming that allows a subclass to inherit attributes and methods from multiple parent classes.\n",
    "\n",
    "##### In Python, multiple inheritance is implemented by specifying multiple parent classes in the class definition separated by commas.\n",
    "\n",
    "##### Here's an example code to demonstrate multiple inheritance in Python:"
   ]
  },
  {
   "cell_type": "code",
   "execution_count": 9,
   "id": "e836604c-8f9a-411e-b878-a3007862a537",
   "metadata": {},
   "outputs": [
    {
     "name": "stdout",
     "output_type": "stream",
     "text": [
      "Method A\n",
      "Method B\n",
      "Method C\n"
     ]
    }
   ],
   "source": [
    "class A:\n",
    "    def method_a(self):\n",
    "        print(\"Method A\")\n",
    "\n",
    "class B:\n",
    "    def method_b(self):\n",
    "        print(\"Method B\")\n",
    "\n",
    "class C(A, B):\n",
    "    def method_c(self):\n",
    "        print(\"Method C\")\n",
    "\n",
    "obj = C()\n",
    "\n",
    "obj.method_a()\n",
    "obj.method_b()\n",
    "obj.method_c()"
   ]
  },
  {
   "cell_type": "markdown",
   "id": "ea6026ac-756a-4e9a-8ef3-2ec5756a55ca",
   "metadata": {},
   "source": [
    "#### ______________________________________________________________________________________________________________________________________________________"
   ]
  },
  {
   "cell_type": "markdown",
   "id": "097ce7af-5d76-4fba-8192-38116dcd65e4",
   "metadata": {},
   "source": [
    "#### Q4. What are getter and setter in python? Create a class and create a getter and a setter method in this class."
   ]
  },
  {
   "cell_type": "markdown",
   "id": "44c2b0eb-bb7e-4b9c-863a-98348097ed83",
   "metadata": {},
   "source": [
    "##### In Python, a getter is a method that is used to retrieve the value of an attribute of an object, and a setter is a method that is used to set the value of an attribute of an object.\n",
    "\n",
    "##### A getter method is usually named with the prefix 'get_', and a setter method is usually named with the prefix 'set_'.\n",
    "\n",
    "##### Here's an example of a class that has a getter and a setter method for an attribute named 'name':"
   ]
  },
  {
   "cell_type": "code",
   "execution_count": 11,
   "id": "69c0e730-cb59-497e-9ab1-2ef2febf3cd9",
   "metadata": {},
   "outputs": [],
   "source": [
    "class Employee:\n",
    "    def __init__(self):\n",
    "        self._name = None\n",
    "\n",
    "    def get_name(self):\n",
    "        return self._name\n",
    "\n",
    "    def set_name(self, name):\n",
    "        self._name = name"
   ]
  },
  {
   "cell_type": "code",
   "execution_count": 12,
   "id": "724dad93-3d8b-49b5-bdf8-cd0e009605af",
   "metadata": {},
   "outputs": [
    {
     "name": "stdout",
     "output_type": "stream",
     "text": [
      "Anjali\n"
     ]
    }
   ],
   "source": [
    "Employee = Employee()\n",
    "\n",
    "Employee.set_name(\"Anjali\")\n",
    "\n",
    "print(Employee.get_name())"
   ]
  },
  {
   "cell_type": "markdown",
   "id": "6dc54a32-5f8d-402f-b182-0f4caa79a7bb",
   "metadata": {},
   "source": [
    "#### ______________________________________________________________________________________________________________________________________________________"
   ]
  },
  {
   "cell_type": "markdown",
   "id": "7ef28b1e-b857-463a-9e71-c002dd8d6e07",
   "metadata": {},
   "source": [
    "#### Q5.What is method overriding in python? Write a python code to demonstrate method overriding."
   ]
  },
  {
   "cell_type": "markdown",
   "id": "421a5d4e-9a1e-4524-9c76-77ba9b20175f",
   "metadata": {},
   "source": [
    "##### Method overriding is a feature of object-oriented programming that allows a subclass to provide a different implementation of a method that is already defined in its parent class.\n",
    "\n",
    "##### In Python, method overriding is achieved by defining a method in the subclass with the same name as the method in the parent class.\n",
    "\n",
    "##### Here's an example code to demonstrate method overriding in Python:"
   ]
  },
  {
   "cell_type": "code",
   "execution_count": 13,
   "id": "dcf66eb0-2cb9-44f8-8895-795305df3a9d",
   "metadata": {},
   "outputs": [
    {
     "name": "stdout",
     "output_type": "stream",
     "text": [
      "Bark\n"
     ]
    }
   ],
   "source": [
    "class Animal:\n",
    "    def make_sound(self):\n",
    "        print(\"Generic animal sound\")\n",
    "\n",
    "class Dog(Animal):\n",
    "    def make_sound(self):\n",
    "        print(\"Bark\")\n",
    "\n",
    "dog = Dog()\n",
    "dog.make_sound()"
   ]
  },
  {
   "cell_type": "markdown",
   "id": "2f449b0b-929a-471a-bf28-72b957cbba35",
   "metadata": {},
   "source": [
    "#### ______________________________________________________________________________________________________________________________________________________"
   ]
  }
 ],
 "metadata": {
  "kernelspec": {
   "display_name": "Python 3 (ipykernel)",
   "language": "python",
   "name": "python3"
  },
  "language_info": {
   "codemirror_mode": {
    "name": "ipython",
    "version": 3
   },
   "file_extension": ".py",
   "mimetype": "text/x-python",
   "name": "python",
   "nbconvert_exporter": "python",
   "pygments_lexer": "ipython3",
   "version": "3.10.8"
  }
 },
 "nbformat": 4,
 "nbformat_minor": 5
}
