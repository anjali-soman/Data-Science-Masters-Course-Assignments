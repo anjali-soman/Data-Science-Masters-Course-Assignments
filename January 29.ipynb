{
 "cells": [
  {
   "cell_type": "markdown",
   "id": "e3c8364c-d957-4065-911f-20a3ab32c5f0",
   "metadata": {},
   "source": [
    "## <u>29th Jan Python Assignment<u>\n",
    "&nbsp;"
   ]
  },
  {
   "cell_type": "markdown",
   "id": "f2e3059d-fc69-4c4c-a752-d8d757db237f",
   "metadata": {},
   "source": [
    "#### 1. Who developed Python Programming Language? \n",
    "#### A. <u>Guido van Rossum<u>"
   ]
  },
  {
   "cell_type": "markdown",
   "id": "eeaef452-408a-4647-8c53-b6729805935f",
   "metadata": {},
   "source": [
    "#### ______________________________________________________________________________________________________________________________________________________"
   ]
  },
  {
   "cell_type": "markdown",
   "id": "7d33c04c-f132-4241-b751-c263642dd6ca",
   "metadata": {
    "tags": []
   },
   "source": [
    "#### 2. Which type of Programming does Python support?\n",
    "#### A. <u>Python is an interpreted programming language, supporting object-oriented, structured, and functional programming.<u>"
   ]
  },
  {
   "cell_type": "markdown",
   "id": "19ca9150-c5e8-47b6-aab8-0f7d16d0e66c",
   "metadata": {},
   "source": [
    "#### ______________________________________________________________________________________________________________________________________________________"
   ]
  },
  {
   "cell_type": "markdown",
   "id": "a55cbf57-c5a3-4adb-a10e-179fd4719b57",
   "metadata": {},
   "source": [
    "#### 3. Is Python case sensitive when dealing with identifiers? \n",
    "#### A. <u>Yes, Python is a case-sensitive language.<u>"
   ]
  },
  {
   "cell_type": "markdown",
   "id": "42dab7f4-c2ad-4b86-ae5e-b8d2a68238bb",
   "metadata": {},
   "source": [
    "#### ______________________________________________________________________________________________________________________________________________________"
   ]
  },
  {
   "cell_type": "markdown",
   "id": "e7e71405-d849-455b-a103-f7054ea94aa3",
   "metadata": {},
   "source": [
    "#### 4. What is the correct extension of the Python file?\n",
    "#### A.&nbsp; &nbsp; <u>.py extension<u>"
   ]
  },
  {
   "cell_type": "markdown",
   "id": "213cd3fd-9c4a-408b-bf25-54b9475829e8",
   "metadata": {},
   "source": [
    "#### ______________________________________________________________________________________________________________________________________________________"
   ]
  },
  {
   "cell_type": "markdown",
   "id": "c4565897-0dcc-4e1d-b0aa-ef67963a9946",
   "metadata": {},
   "source": [
    "#### 5. Is Python code compiled or interpreted?\n",
    "#### A. <u>Python is an interpreted language.<u>"
   ]
  },
  {
   "cell_type": "markdown",
   "id": "8a9ecece-bacf-43ff-81e8-410c81ccb13c",
   "metadata": {},
   "source": [
    "#### ______________________________________________________________________________________________________________________________________________________"
   ]
  },
  {
   "cell_type": "markdown",
   "id": "51ccef10-c0b6-42e2-b3ee-ff7ea581c064",
   "metadata": {},
   "source": [
    "#### 6. Name a few blocks of code used to define in Python language?\n",
    "#### A. <u>Module, Function, Class<u>"
   ]
  },
  {
   "cell_type": "markdown",
   "id": "ced820db-42db-4843-97ab-b078b95ed642",
   "metadata": {},
   "source": [
    "#### ______________________________________________________________________________________________________________________________________________________"
   ]
  },
  {
   "cell_type": "markdown",
   "id": "2aea42c8-42f8-4f21-bc37-8b1012b224ca",
   "metadata": {},
   "source": [
    "#### 7. State a character used to give single-line comments in Python?\n",
    "#### A. <u>Single # character<u>"
   ]
  },
  {
   "cell_type": "markdown",
   "id": "ed95a0c0-6553-4037-8a6c-79219249ea9f",
   "metadata": {},
   "source": [
    "#### ______________________________________________________________________________________________________________________________________________________"
   ]
  },
  {
   "cell_type": "markdown",
   "id": "f26bb954-9d44-4c15-aa58-9327cc974b9b",
   "metadata": {},
   "source": [
    "#### 8. Mention functions which can help us to find the version of python that we are currently working on? \n",
    "#### A. <u>Sys.version<u>"
   ]
  },
  {
   "cell_type": "markdown",
   "id": "8db697ce-e26e-4811-86ce-79c2491de93a",
   "metadata": {},
   "source": [
    "#### ______________________________________________________________________________________________________________________________________________________"
   ]
  },
  {
   "cell_type": "markdown",
   "id": "bb2957ee-d3bf-4c99-8a4f-a5105b413e35",
   "metadata": {},
   "source": [
    "#### 9. Python supports the creation of anonymous functions at runtime, using a construct called _________?\n",
    "#### A. <u>Python supports the creation of anonymous functions at runtime using a construct called (lambda) Lambda Function.<u>"
   ]
  },
  {
   "cell_type": "markdown",
   "id": "6a806b33-1e0c-4b00-8ac3-622cc7a08621",
   "metadata": {},
   "source": [
    "#### ______________________________________________________________________________________________________________________________________________________"
   ]
  },
  {
   "cell_type": "markdown",
   "id": "b6fe9673-7187-41cf-8316-fdf6d7488319",
   "metadata": {},
   "source": [
    "#### 10. What does pip stand for python?\n",
    "#### A. <u>Preferred Installer Program<u>"
   ]
  },
  {
   "cell_type": "markdown",
   "id": "1e88ec62-0b7f-41d3-aa88-2f6b6071f144",
   "metadata": {},
   "source": [
    "#### ______________________________________________________________________________________________________________________________________________________"
   ]
  },
  {
   "cell_type": "markdown",
   "id": "4a7c8d80-89f5-4c1d-82a6-d5eff3a7405b",
   "metadata": {},
   "source": [
    "#### 11. Mention a few built-in functions in python?\n",
    "#### A. <u>There are lots of built-in functions in Python such as print(), help(), input(), type(), len(), bool(), str(), int()<u>"
   ]
  },
  {
   "cell_type": "markdown",
   "id": "516be68e-1c0f-48ea-a159-e3b99fc50762",
   "metadata": {},
   "source": [
    "#### ______________________________________________________________________________________________________________________________________________________"
   ]
  },
  {
   "cell_type": "markdown",
   "id": "ba576e1a-df94-4681-9966-9123c916463c",
   "metadata": {},
   "source": [
    "#### 12. What is the maximum possible length of an identifier in Python?\n",
    "#### A. <u>79 Characters<u>"
   ]
  },
  {
   "cell_type": "markdown",
   "id": "3b3ffa07-8690-49bf-bdfb-5003c725cc30",
   "metadata": {},
   "source": [
    "#### ______________________________________________________________________________________________________________________________________________________"
   ]
  },
  {
   "cell_type": "markdown",
   "id": "e21bf5c5-b8d8-49ae-ae06-4505eaa57903",
   "metadata": {},
   "source": [
    "#### 13. What are the benefits of using Python?\n",
    "#### A. <u>Below listed are some of the benefits of Python Programming Language:<u>\n",
    "\n",
    "\n",
    "- Fastest-Growing Programming Language: Python programming has become one of the fastest growing programming languages in the world. Python language is used by almost all tech-giant companies like Google, Amazon, Facebook, Instagram, Uber.\n",
    "\n",
    "- Python is Beginner Friendly: Python supports english syntax and is designed to be concise and easy to read. All of which makes it more accessible to first-time coders. It is an Interpreted programming language which means that you can run each line of code once you have finished writing it allows you to implement, check it and make adjustments if needed.\n",
    "\n",
    "- Python is Versatile: Python is a totally versatile language as it has been used widely in Artificial Intelligence, Machine Learning, Data Science, Web Development, embedded systems, Graphic Design applications, Big Data , Data mining, Gaming and more.\n",
    "\n",
    "- Python is High in Demand: As Python is getting more popular along with an increase in an active community and its function, the demand for python professionals is also increasing.\n"
   ]
  },
  {
   "cell_type": "markdown",
   "id": "c822892e-b77c-4171-9942-c34e876d3f8d",
   "metadata": {},
   "source": [
    "#### ______________________________________________________________________________________________________________________________________________________"
   ]
  },
  {
   "cell_type": "markdown",
   "id": "3267e20a-395e-4b04-ba56-13b0e4dfac68",
   "metadata": {},
   "source": [
    "#### 14. How is memory managed in Python?\n",
    "#### A. <u>Memory management in Python involves a private heap containing all Python objects and data structures. The management of this private heap is ensured internally by the Python memory manager.<u>"
   ]
  },
  {
   "cell_type": "markdown",
   "id": "74c3f345-1b5e-4e02-9ea7-124d80a6f529",
   "metadata": {},
   "source": [
    "#### ______________________________________________________________________________________________________________________________________________________"
   ]
  },
  {
   "cell_type": "markdown",
   "id": "d9139627-c6f5-4f39-9d80-7cb42d51573d",
   "metadata": {},
   "source": [
    "#### 15. How to install Python on Windows and set path variables?\n",
    "#### A. <u>Steps mentioned below:<u>\n",
    "\n",
    "- Visit www.python.org and download any version of your choice. Double click on the download file and simply install python.\n",
    "\n",
    "- Right-click This PC and go to Properties.\n",
    "\n",
    "- Click on the Advanced system settings in the menu on the left.\n",
    "\n",
    "- Click on the Environment Variables button on the bottom right.\n",
    "\n",
    "- In the System variables section, select the Path variable and click on Edit. The next screen will show all the directories that are currently a part of the PATH variable.\n",
    "\n",
    "- Click on New and enter Python’s install directory."
   ]
  },
  {
   "cell_type": "markdown",
   "id": "0e0e7d13-c182-460e-9560-a44dbd0960ed",
   "metadata": {},
   "source": [
    "#### ______________________________________________________________________________________________________________________________________________________"
   ]
  },
  {
   "cell_type": "markdown",
   "id": "b9ceb701-4ffc-4fb3-a6e5-bcd75ff51139",
   "metadata": {},
   "source": [
    "#### 16. Is indentation required in python?\n",
    "#### A. <u>The indentation in Python is very important. Python uses indentation to indicate a block of code.<u>"
   ]
  },
  {
   "cell_type": "markdown",
   "id": "2399e61e-1b50-4808-87a3-8fe1d5fe0b2e",
   "metadata": {},
   "source": [
    "#### ______________________________________________________________________________________________________________________________________________________"
   ]
  },
  {
   "cell_type": "code",
   "execution_count": null,
   "id": "7a6d9539-c904-41ce-a80b-976378576093",
   "metadata": {},
   "outputs": [],
   "source": []
  }
 ],
 "metadata": {
  "kernelspec": {
   "display_name": "Python 3 (ipykernel)",
   "language": "python",
   "name": "python3"
  },
  "language_info": {
   "codemirror_mode": {
    "name": "ipython",
    "version": 3
   },
   "file_extension": ".py",
   "mimetype": "text/x-python",
   "name": "python",
   "nbconvert_exporter": "python",
   "pygments_lexer": "ipython3",
   "version": "3.10.8"
  }
 },
 "nbformat": 4,
 "nbformat_minor": 5
}
