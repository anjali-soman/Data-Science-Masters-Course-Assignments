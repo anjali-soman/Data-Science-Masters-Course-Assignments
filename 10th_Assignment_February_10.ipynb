{
 "cells": [
  {
   "cell_type": "markdown",
   "id": "b2246a13-b193-40bd-aad0-7b07fac1b5e4",
   "metadata": {},
   "source": [
    "#### Q1. Which function is used to open a file? What are the different modes of opening a file? Explain each mode of file opening."
   ]
  },
  {
   "cell_type": "markdown",
   "id": "e6b98baf-0bd3-42f2-901d-6691a1b64086",
   "metadata": {},
   "source": [
    "##### The built-in 'open()' function is used to open a file. The 'open()' function takes two arguments: the path to the file to be opened and the mode in which the file should be opened.\n",
    "\n",
    "##### The different modes of opening a file in Python are:\n",
    "\n",
    "- <u>\"r\" (read-only mode)<u>\n",
    "##### This mode is used to read the contents of a file. It is the default mode if no mode is specified. In read-only mode, the file pointer is positioned at the beginning of the file, and you can only read from the file.\n",
    "\n",
    "- <u>\"w\" (write mode)<u>\n",
    "##### This mode is used to write data to a file. If the file already exists, its contents will be overwritten. If the file doesn't exist, it will be created. In write mode, the file pointer is positioned at the beginning of the file.\n",
    "\n",
    "- <u>\"a\" (append mode)<u>\n",
    "##### This mode is used to append data to a file. If the file already exists, new data will be added to the end of the file. If the file doesn't exist, it will be created. In append mode, the file pointer is positioned at the end of the file.\n",
    "\n",
    "- <u>\"x\" (exclusive creation mode)<u>\n",
    "##### This mode is used to create a new file, but it will fail if the file already exists. In exclusive creation mode, the file pointer is positioned at the beginning of the file.\n",
    "\n",
    "- <u>\"b\" (binary mode)<u>\n",
    "##### This mode is used to open a file in binary mode. This is usually used when reading or writing non-text files such as images or audio files. If this mode is not specified, the default mode is text mode.\n",
    "\n",
    "- <u>\"t\" (text mode)<u>\n",
    "##### This mode is used to open a file in text mode. This is the default mode if no mode is specified. In text mode, the contents of the file are treated as text, and are encoded and decoded automatically by Python."
   ]
  },
  {
   "cell_type": "markdown",
   "id": "dbc702d3-4122-42d8-a870-deebb37abecc",
   "metadata": {},
   "source": [
    "#### ______________________________________________________________________________________________________________________________________________________"
   ]
  },
  {
   "cell_type": "markdown",
   "id": "9a73fe3a-e554-41d1-850e-e6f5adb9ef71",
   "metadata": {},
   "source": [
    "#### Q2. Why close() function is used? Why is it important to close a file?"
   ]
  },
  {
   "cell_type": "markdown",
   "id": "88a258a0-e121-4edc-b2d5-4c2be7c183d4",
   "metadata": {},
   "source": [
    "##### The 'close()' function is used to close a file after it has been opened using the 'open()' function in Python.\n",
    "\n",
    "##### It is important to close a file after it has been used for several reasons:\n",
    "\n",
    "- <u>Resource management<u>\n",
    "##### When a file is opened, system resources (such as memory) are allocated to the file. If the file is not closed properly, these resources will not be released back to the system, which can cause issues such as memory leaks. By closing the file, these resources are released back to the system.\n",
    "\n",
    "- <u>Data integrity<u>\n",
    "##### When a file is opened in write or append mode, data is buffered in memory before it is written to the file. If the file is not closed properly, this buffered data may not be written to the file, which can result in data loss or corruption. By closing the file, any buffered data is written to the file before it is closed.\n",
    "\n",
    "- <u>File locking<u>\n",
    "##### In some operating systems, files that are opened by a process are locked and cannot be accessed by other processes. If a file is not closed properly, it may remain locked, preventing other processes from accessing or modifying the file. By closing the file, the file lock is released."
   ]
  },
  {
   "cell_type": "markdown",
   "id": "60fb3d3d-cb6f-4309-a002-5483cb75476d",
   "metadata": {},
   "source": [
    "#### ______________________________________________________________________________________________________________________________________________________"
   ]
  },
  {
   "cell_type": "markdown",
   "id": "6aa95991-e8fd-4765-9d1f-8bfaa4ed33b5",
   "metadata": {},
   "source": [
    "#### Q3. Write a python program to create a text file. Write ‘I want to become a Data Scientist’ in that file. Then close the file. Open this file and read the content of the file."
   ]
  },
  {
   "cell_type": "code",
   "execution_count": 1,
   "id": "2c93d68d-07bc-41de-9b6d-9d5eb13b6afb",
   "metadata": {},
   "outputs": [
    {
     "name": "stdout",
     "output_type": "stream",
     "text": [
      "I want to become a Data Scientist\n"
     ]
    }
   ],
   "source": [
    "# Open the file in write mode\n",
    "with open(\"data_scientist.txt\", \"w\") as file:\n",
    "    file.write(\"I want to become a Data Scientist\")\n",
    "\n",
    "# Open the file in read mode\n",
    "with open(\"data_scientist.txt\", \"r\") as file:\n",
    "    content = file.read()\n",
    "    print(content)"
   ]
  },
  {
   "cell_type": "markdown",
   "id": "1e689525-bc4b-4f74-adde-ab71673bf1a9",
   "metadata": {},
   "source": [
    "#### ______________________________________________________________________________________________________________________________________________________"
   ]
  },
  {
   "cell_type": "markdown",
   "id": "521b6b7d-a509-4ec2-9593-79a0c748e783",
   "metadata": {},
   "source": [
    "#### Q4. Explain the following with python code: read(), readline() and readlines()."
   ]
  },
  {
   "cell_type": "markdown",
   "id": "e2230033-4e93-44c7-95a8-5b88126833f0",
   "metadata": {},
   "source": [
    "##### Here are the explanations for the read(), readline(), and readlines() methods:\n",
    "\n",
    "1. 'read()' method: The 'read()' method reads the entire contents of a file and returns it as a string. The syntax for the 'read()' method is as follows:"
   ]
  },
  {
   "cell_type": "code",
   "execution_count": null,
   "id": "7aff648e-7d0a-4e2d-b24c-6be3df526983",
   "metadata": {},
   "outputs": [],
   "source": [
    "with open(\"filename.txt\", \"r\") as file:\n",
    "    content = file.read()"
   ]
  },
  {
   "cell_type": "markdown",
   "id": "c4916cd2-de06-4f54-924a-54ea0a3aa894",
   "metadata": {},
   "source": [
    "##### In this example, the 'open()' function is used to open the file \"filename.txt\" in read mode, and the file object is assigned to the variable 'file'. The 'read()' method of the file object is then used to read the entire contents of the file and store it in the variable 'content'."
   ]
  },
  {
   "cell_type": "markdown",
   "id": "f397984f-f6fd-432d-919a-e59178a5d5dd",
   "metadata": {},
   "source": [
    "2. 'readline()' method: The 'readline()' method reads a single line of text from a file and returns it as a string. Each time the method is called, it reads the next line of text. The syntax for the 'readline()' method is as follows:"
   ]
  },
  {
   "cell_type": "code",
   "execution_count": null,
   "id": "a0a98a08-77bd-4c06-a40f-f2341521b64b",
   "metadata": {},
   "outputs": [],
   "source": [
    "with open(\"filename.txt\", \"r\") as file:\n",
    "    line1 = file.readline()\n",
    "    line2 = file.readline()"
   ]
  },
  {
   "cell_type": "markdown",
   "id": "325c5761-63b9-4042-84e6-a443815fd7ca",
   "metadata": {},
   "source": [
    "##### In this example, the 'open()' function is used to open the file \"filename.txt\" in read mode, and the file object is assigned to the variable 'file'. The 'readline()' method is called twice, first to read the first line of text and store it in the variable 'line1', and then to read the second line of text and store it in the variable 'line2'."
   ]
  },
  {
   "cell_type": "markdown",
   "id": "1f1bb684-120a-4e6a-9b4f-49e8195d4801",
   "metadata": {},
   "source": [
    "##### 'readlines()' method: The 'readlines()' method reads all the lines of text from a file and returns them as a list of strings, where each string represents a line of text. The syntax for the 'readlines()' method is as follows:"
   ]
  },
  {
   "cell_type": "code",
   "execution_count": null,
   "id": "d263eb20-3792-4db3-bf36-f1d3f8437a55",
   "metadata": {},
   "outputs": [],
   "source": [
    "with open(\"filename.txt\", \"r\") as file:\n",
    "    lines = file.readlines()"
   ]
  },
  {
   "cell_type": "markdown",
   "id": "3adb7ccc-e5c6-40ef-8678-9ccf4666321a",
   "metadata": {},
   "source": [
    "##### In this example, the 'open()' function is used to open the file \"filename.txt\" in read mode, and the file object is assigned to the variable 'file'. The 'readlines()' method of the file object is then used to read all the lines of text from the file and store them in the variable 'lines', which is a list of strings."
   ]
  },
  {
   "cell_type": "markdown",
   "id": "6c98fff7-5c2d-4353-bb51-a3d7e561cb9e",
   "metadata": {},
   "source": [
    "##### Here is an example Python program that demonstrates the use of all three methods:"
   ]
  },
  {
   "cell_type": "code",
   "execution_count": null,
   "id": "43799184-2676-40bd-9a32-24722ac0ec65",
   "metadata": {},
   "outputs": [],
   "source": [
    "# open file in read mode\n",
    "with open(\"sample.txt\", \"r\") as file:\n",
    "    \n",
    "    # read the entire file and print it\n",
    "    content = file.read()\n",
    "    print(\"File content using read():\")\n",
    "    print(content)\n",
    "    \n",
    "    # read a single line and print it\n",
    "    line = file.readline()\n",
    "    print(\"\\nSingle line using readline():\")\n",
    "    print(line)\n",
    "    \n",
    "    # read all the lines and print them\n",
    "    lines = file.readlines()\n",
    "    print(\"\\nAll lines using readlines():\")\n",
    "    for line in lines:\n",
    "        print(line.strip())"
   ]
  },
  {
   "cell_type": "markdown",
   "id": "50479bb3-fac5-4efd-b49e-66eb141ed5ba",
   "metadata": {},
   "source": [
    "#### ______________________________________________________________________________________________________________________________________________________"
   ]
  },
  {
   "cell_type": "markdown",
   "id": "fe6054c7-7baa-486d-8cb9-a71dab84a575",
   "metadata": {},
   "source": [
    "#### Q5. Explain why with statement is used with open(). What is the advantage of using with statement and open() together?"
   ]
  },
  {
   "cell_type": "markdown",
   "id": "e04dee21-bcd0-48ad-803d-fc314980a766",
   "metadata": {},
   "source": [
    "##### The 'with' statement is used with the 'open()' function to simplify file I/O operations. The 'with' statement ensures that the file is automatically closed after the code block is executed, regardless of whether an exception is raised or not.\n",
    "\n",
    "##### The advantage of using the 'with' statement and 'open()' function together is that it automatically handles the process of opening and closing the file. This means that you don't need to worry about explicitly closing the file, which can help avoid errors that may occur due to forgetting to close the file.\n",
    "\n",
    "##### Overall, using the 'with' statement with the 'open()' function is a recommended best practice for working with files in Python, as it simplifies the process of opening and closing files and helps to ensure that file resources are properly managed."
   ]
  },
  {
   "cell_type": "markdown",
   "id": "f28558a5-4805-4799-a673-092e50db727c",
   "metadata": {},
   "source": [
    "#### ______________________________________________________________________________________________________________________________________________________"
   ]
  },
  {
   "cell_type": "markdown",
   "id": "e4d28e44-ee82-45fa-aad6-b0784a12c72b",
   "metadata": {},
   "source": [
    "#### Q6. Explain the write() and writelines() functions. Give a suitable example."
   ]
  },
  {
   "cell_type": "markdown",
   "id": "b6ef1ede-23a7-45c8-bcd5-5d15a0b0f507",
   "metadata": {},
   "source": [
    "##### The 'write()' and 'writelines()' functions are used to write data to a file.\n",
    "\n",
    "##### The 'write()' function is used to write a single string of data to a file. The syntax for using the 'write()' function is as follows:"
   ]
  },
  {
   "cell_type": "code",
   "execution_count": null,
   "id": "22314066-5d3f-4a66-92b7-e29817a9870f",
   "metadata": {},
   "outputs": [],
   "source": [
    "file.write(string)"
   ]
  },
  {
   "cell_type": "markdown",
   "id": "0aa7a7d5-a0bc-4823-a147-b2af2c818341",
   "metadata": {},
   "source": [
    "##### where 'file' is the file object and 'string' is the data that you want to write to the file.\n",
    "\n",
    "##### Here's an example that demonstrates how to use the 'write()' function:"
   ]
  },
  {
   "cell_type": "code",
   "execution_count": 4,
   "id": "7c26667d-974b-4253-af05-17d5314fc144",
   "metadata": {},
   "outputs": [],
   "source": [
    "with open('filename.txt', 'w') as file:\n",
    "    file.write('This is the first line.\\n')\n",
    "    file.write('This is the second line.\\n')"
   ]
  },
  {
   "cell_type": "markdown",
   "id": "9c9d6022-5114-4502-80b5-73aef6521848",
   "metadata": {},
   "source": [
    "##### In this example, the file \"filename.txt\" is opened in write mode using the 'open()' function. The 'write()' function is then used to write two lines of text to the file.\n",
    "\n",
    "##### The 'writelines()' function is used to write a sequence of strings to a file. The syntax for using the 'writelines()' function is as follows:"
   ]
  },
  {
   "cell_type": "code",
   "execution_count": null,
   "id": "4ee21c65-e418-4b5f-aa95-f1f31f7024aa",
   "metadata": {},
   "outputs": [],
   "source": [
    "file.writelines(sequence)"
   ]
  },
  {
   "cell_type": "markdown",
   "id": "04a4a2f5-4666-4adc-a401-0c244a6244e5",
   "metadata": {},
   "source": [
    "##### where 'file' is the file object and 'sequence' is a sequence of strings.\n",
    "\n",
    "##### Here's an example that demonstrates how to use the 'writelines()' function:"
   ]
  },
  {
   "cell_type": "code",
   "execution_count": 5,
   "id": "cdb191c8-22c9-46ef-9db0-69699fa8b177",
   "metadata": {},
   "outputs": [],
   "source": [
    "with open('filename.txt', 'w') as file:\n",
    "    lines = ['This is the first line.\\n', 'This is the second line.\\n']\n",
    "    file.writelines(lines)"
   ]
  },
  {
   "cell_type": "markdown",
   "id": "3cd52739-4ab4-4a78-b130-9e4d7d355761",
   "metadata": {},
   "source": [
    "##### In this example, the file \"filename.txt\" is opened in write mode using the 'open()' function. The 'writelines()' function is then used to write two lines of text to the file."
   ]
  },
  {
   "cell_type": "markdown",
   "id": "1876dd2e-c992-4e06-80cd-5c88e220f631",
   "metadata": {},
   "source": [
    "#### ______________________________________________________________________________________________________________________________________________________"
   ]
  }
 ],
 "metadata": {
  "kernelspec": {
   "display_name": "Python 3 (ipykernel)",
   "language": "python",
   "name": "python3"
  },
  "language_info": {
   "codemirror_mode": {
    "name": "ipython",
    "version": 3
   },
   "file_extension": ".py",
   "mimetype": "text/x-python",
   "name": "python",
   "nbconvert_exporter": "python",
   "pygments_lexer": "ipython3",
   "version": "3.10.8"
  }
 },
 "nbformat": 4,
 "nbformat_minor": 5
}
