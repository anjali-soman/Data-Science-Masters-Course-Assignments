{
 "cells": [
  {
   "cell_type": "markdown",
   "id": "d0066482-288b-4a7d-b4a0-ada8581cbaf7",
   "metadata": {},
   "source": [
    "#### Q.1) What are the characteristics of the tuples? Is tuple immutable?"
   ]
  },
  {
   "cell_type": "markdown",
   "id": "e990d99f-9f54-49e5-a2de-8ea1afdf7294",
   "metadata": {},
   "source": [
    "##### A tuple is an ordered, immutable, and collection of elements of any type. Here are some of the characteristics of tuples in Python:\n",
    "\n",
    "- Ordered: The elements in a tuple have a specific order, and the order is maintained.\n",
    "\n",
    "- Immutable: Once a tuple is created, the elements cannot be modified or changed. This makes tuples useful for representing data that should not change, such as dates, coordinate points, etc.\n",
    "\n",
    "- Collection of elements: Tuples can contain elements of any type, including other tuples, making them a versatile data structure.\n",
    "\n",
    "- Indexable: The elements in a tuple can be accessed by their index, just like a list.\n",
    "\n",
    "- Heterogeneous: The elements in a tuple can be of different data types, unlike lists that can only contain elements of the same data type.\n",
    "\n",
    "##### Yes, tuples are immutable. They are similar to lists in many ways, but unlike lists, you cannot modify the elements of a tuple after they have been created."
   ]
  },
  {
   "cell_type": "markdown",
   "id": "2328c780-a0f0-471b-b088-edbf66d76cbb",
   "metadata": {},
   "source": [
    "#### ______________________________________________________________________________________________________________________________________________________"
   ]
  },
  {
   "cell_type": "markdown",
   "id": "a4635249-a47c-40c7-8382-617efc4a7769",
   "metadata": {},
   "source": [
    "#### Q.2) What are the two tuple methods in python? Give an example of each method. Give a reason why tuples have only two in-built methods as compared to Lists."
   ]
  },
  {
   "cell_type": "markdown",
   "id": "c5695a11-3ac7-4e8f-ab97-b20a321b3254",
   "metadata": {},
   "source": [
    "##### Tuples have two in-built methods in Python:\n",
    "\n",
    "- count() method: This method returns the number of times a specific element appears in a tuple.\n",
    "\n",
    "##### Example:"
   ]
  },
  {
   "cell_type": "code",
   "execution_count": 1,
   "id": "d398af22-cce7-4442-8975-535383048197",
   "metadata": {},
   "outputs": [
    {
     "name": "stdout",
     "output_type": "stream",
     "text": [
      "The number 2 appears 2 times in the tuple.\n"
     ]
    }
   ],
   "source": [
    "# define a tuple\n",
    "numbers = (1, 2, 3, 4, 5, 1, 2, 3)\n",
    "\n",
    "# count the number of times the number 2 appears\n",
    "count = numbers.count(2)\n",
    "print(\"The number 2 appears\", count, \"times in the tuple.\")"
   ]
  },
  {
   "cell_type": "markdown",
   "id": "8f29e395-2ea5-4e59-8998-754eed580035",
   "metadata": {},
   "source": [
    "##### index() method: This method returns the index of the first occurrence of a specific element in a tuple.\n",
    "\n",
    "##### Example:"
   ]
  },
  {
   "cell_type": "code",
   "execution_count": 2,
   "id": "dee1fd19-6cca-4b3d-b786-bdb3ad9073af",
   "metadata": {},
   "outputs": [
    {
     "name": "stdout",
     "output_type": "stream",
     "text": [
      "The first occurrence of the word 'apple' is at index 0 in the tuple.\n"
     ]
    }
   ],
   "source": [
    "# define a tuple\n",
    "fruits = (\"apple\", \"banana\", \"cherry\", \"apple\")\n",
    "\n",
    "# find the index of the first occurrence of the word \"apple\"\n",
    "index = fruits.index(\"apple\")\n",
    "print(\"The first occurrence of the word 'apple' is at index\", index, \"in the tuple.\")"
   ]
  },
  {
   "cell_type": "markdown",
   "id": "943a9d1e-afda-4b8d-b9e5-4dafe6a1f678",
   "metadata": {},
   "source": [
    "##### Tuples have only two in-built methods as compared to lists because they are meant to be used as a collection of immutable values. Lists, on the other hand, are meant to be used as collections of mutable values, and thus have more methods available to modify and manipulate the elements. The two methods available for tuples are enough for their intended purpose, which is to provide an ordered collection of elements that cannot be changed."
   ]
  },
  {
   "cell_type": "markdown",
   "id": "e1724d45-ca4a-455b-9253-ebf6704e0867",
   "metadata": {},
   "source": [
    "#### ______________________________________________________________________________________________________________________________________________________"
   ]
  },
  {
   "cell_type": "markdown",
   "id": "8b20fe7b-97cf-4dc7-a4c1-62c4f938eeb0",
   "metadata": {},
   "source": [
    "#### Q.3) Which collection datatypes in python do not allow duplicate items? Write a code using a set to remove duplicates from the given list.\n",
    "##### List = [1, 1, 1, 2, 1, 3, 1, 4, 2, 1, 2, 2, 2, 3, 2, 4, 3, 1, 3, 2, 3, 3, 3, 4, 4, 1, 4, 2, 4, 3, 4, 4]"
   ]
  },
  {
   "cell_type": "markdown",
   "id": "60d36e7a-dcad-484c-aa5e-97463aef51d4",
   "metadata": {},
   "source": [
    "##### Sets in Python do not allow duplicate items. You can use a set to remove duplicates from a list by converting the list into a set and then back into a list. The set will automatically remove all duplicates, and then you can convert it back into a list to get a new list without duplicates.\n",
    "\n",
    "##### Example:"
   ]
  },
  {
   "cell_type": "code",
   "execution_count": 3,
   "id": "6fec63bb-43dc-47e8-89f4-da47b8a86f14",
   "metadata": {},
   "outputs": [
    {
     "name": "stdout",
     "output_type": "stream",
     "text": [
      "List without duplicates: [1, 2, 3, 4]\n"
     ]
    }
   ],
   "source": [
    "List = [1, 1, 1, 2, 1, 3, 1, 4, 2, 1, 2, 2, 2, 3, 2, 4, 3, 1, 3, 2, 3, 3, 3, 4, 4, 1, 4, 2, 4, 3, 4, 4]\n",
    "\n",
    "# convert the list into a set\n",
    "no_duplicates = set(List)\n",
    "\n",
    "# convert the set back into a list\n",
    "no_duplicates = list(no_duplicates)\n",
    "\n",
    "print(\"List without duplicates:\", no_duplicates)"
   ]
  },
  {
   "cell_type": "markdown",
   "id": "7013be79-6b5e-4074-bdd9-3dd82e42827f",
   "metadata": {},
   "source": [
    "#### ______________________________________________________________________________________________________________________________________________________"
   ]
  },
  {
   "cell_type": "markdown",
   "id": "851e1bd5-613b-463a-8192-755095019b69",
   "metadata": {},
   "source": [
    "#### Q.4) Explain the difference between the union() and update() methods for a set. Give an example of each method."
   ]
  },
  {
   "cell_type": "markdown",
   "id": "34056208-1ec2-4fff-abcd-54a674f54725",
   "metadata": {},
   "source": [
    "##### The union() and update() methods are used to merge two sets in Python. However, there is a difference between the two methods.\n",
    "\n",
    "##### The union() method returns a set that contains all the elements from both the sets being merged, but it does not modify either of the sets.\n",
    "\n",
    "##### Here is an example:"
   ]
  },
  {
   "cell_type": "code",
   "execution_count": 4,
   "id": "70be89c2-c649-4c7f-a011-b3570c9739ee",
   "metadata": {},
   "outputs": [
    {
     "name": "stdout",
     "output_type": "stream",
     "text": [
      "Union of set1 and set2: {1, 2, 3, 4, 5, 6}\n"
     ]
    }
   ],
   "source": [
    "set1 = {1, 2, 3, 4}\n",
    "set2 = {3, 4, 5, 6}\n",
    "\n",
    "# union of set1 and set2\n",
    "result = set1.union(set2)\n",
    "\n",
    "print(\"Union of set1 and set2:\", result)"
   ]
  },
  {
   "cell_type": "markdown",
   "id": "d3e2f789-a2be-4d99-957c-730065bec6fa",
   "metadata": {},
   "source": [
    "#### On the other hand, the update() method merges the elements from one set into another set, and the original set is modified. Here is an example:"
   ]
  },
  {
   "cell_type": "code",
   "execution_count": 5,
   "id": "6a4d6fec-b66f-4753-b4e0-b350ba13c056",
   "metadata": {},
   "outputs": [
    {
     "name": "stdout",
     "output_type": "stream",
     "text": [
      "set1 after update: {1, 2, 3, 4, 5, 6}\n"
     ]
    }
   ],
   "source": [
    "set1 = {1, 2, 3, 4}\n",
    "set2 = {3, 4, 5, 6}\n",
    "\n",
    "# update set1 with elements of set2\n",
    "set1.update(set2)\n",
    "\n",
    "print(\"set1 after update:\", set1)"
   ]
  },
  {
   "cell_type": "markdown",
   "id": "868d2f27-fa67-4f01-abd5-153ab2540e7c",
   "metadata": {},
   "source": [
    "##### So, the key difference between the two methods is that the union() method returns a new set with the merged elements, whereas the update() method updates the original set with the elements from another set."
   ]
  },
  {
   "cell_type": "markdown",
   "id": "f099db83-3923-43de-bd06-b2344d0cd2f3",
   "metadata": {},
   "source": [
    "#### ______________________________________________________________________________________________________________________________________________________"
   ]
  },
  {
   "cell_type": "markdown",
   "id": "d1e81b7e-092a-466e-a5fb-55880f7a7141",
   "metadata": {},
   "source": [
    "#### Q.5) What is a dictionary? Give an example. Also, state whether a dictionary is ordered or unordered."
   ]
  },
  {
   "cell_type": "markdown",
   "id": "7b18e28c-058a-410f-b000-76de0be511fb",
   "metadata": {},
   "source": [
    "##### A dictionary is a collection data type in Python that is used to store key-value pairs. In a dictionary, each key maps to a value. The keys and values can be of any data type, including integers, strings, lists, etc.\n",
    "\n",
    "##### Here is an example of a dictionary:"
   ]
  },
  {
   "cell_type": "code",
   "execution_count": 7,
   "id": "d30d63fa-369f-48a8-a352-b19323122bfc",
   "metadata": {},
   "outputs": [],
   "source": [
    "employee = {'Name': 'Anjali', 'Age': 28, 'Designation': 'Quality Control Analyst'}"
   ]
  },
  {
   "cell_type": "markdown",
   "id": "5fa84934-5537-4ffb-a50a-01b86dc7918c",
   "metadata": {},
   "source": [
    "##### In this example, the keys 'Name', 'Age', and 'Designation' map to the values 'Anjali', '28', and 'Quality Control Analyst', respectively.\n",
    "\n",
    "##### Dictionaries in Python are unordered. This means that the elements in a dictionary are not stored in a specific order. When you retrieve elements from a dictionary, they may not be returned in the same order as they were added."
   ]
  },
  {
   "cell_type": "markdown",
   "id": "6e033c79-6e30-4908-bb3e-b691447792a9",
   "metadata": {},
   "source": [
    "#### ______________________________________________________________________________________________________________________________________________________"
   ]
  },
  {
   "cell_type": "markdown",
   "id": "ac23809d-dc4a-4158-af37-f211177af82b",
   "metadata": {},
   "source": [
    "#### Q.6) Can we create a nested dictionary? If so, please give an example by creating a simple one-level nested dictionary."
   ]
  },
  {
   "cell_type": "markdown",
   "id": "f5916b08-f1ac-4eea-a9fc-7fc7d8030bc4",
   "metadata": {},
   "source": [
    "##### Yes, you can create a nested dictionary in Python. A nested dictionary is a dictionary that contains another dictionary as its value.\n",
    "\n",
    "##### Here is an example of a one-level nested dictionary:"
   ]
  },
  {
   "cell_type": "code",
   "execution_count": 8,
   "id": "5245b135-75bd-4ad1-ab7e-c4c2be2abb81",
   "metadata": {},
   "outputs": [],
   "source": [
    "employee = {'Anjali': {'Age': 28, 'Designation': 'Quality Control Analyst'},\n",
    "            'Sam': {'Age': 30, 'Designation': 'Senior Accounts Receivable'},\n",
    "            'Anish': {'Age': 26, 'Designation': 'Quality Analyst'}}"
   ]
  },
  {
   "cell_type": "markdown",
   "id": "04787b28-1cff-4308-8901-aec814611be9",
   "metadata": {},
   "source": [
    "##### In this example, the main dictionary employee has three keys, 'Anjali', 'Sam', and 'Anish', that map to three separate dictionaries. Each of these dictionaries contains two key-value pairs that store the age and designation of an employee."
   ]
  },
  {
   "cell_type": "markdown",
   "id": "dd95d76e-175b-426f-b858-dd4a04335d62",
   "metadata": {},
   "source": [
    "#### ______________________________________________________________________________________________________________________________________________________"
   ]
  },
  {
   "cell_type": "markdown",
   "id": "b2acee3e-7af1-42ab-ae2c-248804bda7bc",
   "metadata": {},
   "source": [
    "#### Q.7) Using setdefault() method, create key named topics in the given dictionary and also add the value of the key as this list ['Python', 'Machine Learning’, 'Deep Learning']\n",
    "\n",
    "##### dict1 = {'language' : 'Python', 'course': 'Data Science Masters'}"
   ]
  },
  {
   "cell_type": "markdown",
   "id": "d2f4fd85-9542-4861-bdd2-c8086eabea9f",
   "metadata": {},
   "source": [
    "##### Using the setdefault() method to add a key named 'topics' with the value ['Python', 'Machine Learning', 'Deep Learning'] to the dictionary dict1:"
   ]
  },
  {
   "cell_type": "code",
   "execution_count": 9,
   "id": "de25850a-0f5a-45fc-b437-7a685413f263",
   "metadata": {},
   "outputs": [
    {
     "name": "stdout",
     "output_type": "stream",
     "text": [
      "{'language': 'Python', 'course': 'Data Science Masters', 'topics': ['Python', 'Machine Learning', 'Deep Learning']}\n"
     ]
    }
   ],
   "source": [
    "dict1 = {'language' : 'Python', 'course': 'Data Science Masters'}\n",
    "\n",
    "dict1.setdefault('topics', ['Python', 'Machine Learning', 'Deep Learning'])\n",
    "\n",
    "print(dict1)"
   ]
  },
  {
   "cell_type": "markdown",
   "id": "aa63c98d-59b1-4141-a428-ff035e620539",
   "metadata": {},
   "source": [
    "#### ______________________________________________________________________________________________________________________________________________________"
   ]
  },
  {
   "cell_type": "markdown",
   "id": "158d385f-a470-4990-8f73-576d4153834d",
   "metadata": {},
   "source": [
    "#### Q.8) What are the three view objects in dictionaries? Use the three in-built methods in python to display these three view objects for the given dictionary.\n",
    "\n",
    "#### dict1 = {'Sport': 'Cricket' , 'Teams': ['India', 'Australia', 'England', 'South Africa', 'Sri Lanka', 'New Zealand']}"
   ]
  },
  {
   "cell_type": "markdown",
   "id": "2a795b8e-f0b8-417e-94f1-b40ea9ff2715",
   "metadata": {},
   "source": [
    "##### The three view objects in dictionaries are: keys(), values(), and items(). To display these three view objects, we can use the following in-built methods:"
   ]
  },
  {
   "cell_type": "code",
   "execution_count": 10,
   "id": "2d0555c3-a783-4eae-a2fa-cae9d9938994",
   "metadata": {},
   "outputs": [
    {
     "name": "stdout",
     "output_type": "stream",
     "text": [
      "keys: dict_keys(['Sport', 'Teams'])\n",
      "values: dict_values(['Cricket', ['India', 'Australia', 'England', 'South Africa', 'Sri Lanka', 'New Zealand']])\n",
      "items: dict_items([('Sport', 'Cricket'), ('Teams', ['India', 'Australia', 'England', 'South Africa', 'Sri Lanka', 'New Zealand'])])\n"
     ]
    }
   ],
   "source": [
    "dict1 = {'Sport': 'Cricket' , 'Teams': ['India', 'Australia', 'England', 'South Africa', 'Sri Lanka', 'New Zealand']}\n",
    "\n",
    "# display keys\n",
    "print(\"keys:\", dict1.keys())\n",
    "\n",
    "# display values\n",
    "print(\"values:\", dict1.values())\n",
    "\n",
    "# display items\n",
    "print(\"items:\", dict1.items())"
   ]
  }
 ],
 "metadata": {
  "kernelspec": {
   "display_name": "Python 3 (ipykernel)",
   "language": "python",
   "name": "python3"
  },
  "language_info": {
   "codemirror_mode": {
    "name": "ipython",
    "version": 3
   },
   "file_extension": ".py",
   "mimetype": "text/x-python",
   "name": "python",
   "nbconvert_exporter": "python",
   "pygments_lexer": "ipython3",
   "version": "3.10.8"
  }
 },
 "nbformat": 4,
 "nbformat_minor": 5
}
