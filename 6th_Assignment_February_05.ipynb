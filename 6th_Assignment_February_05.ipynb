{
 "cells": [
  {
   "cell_type": "markdown",
   "id": "232d32d8-b827-434e-96bf-80e44b75fc29",
   "metadata": {},
   "source": [
    "#### Q1. Explain Class and Object with respect to Object-Oriented Programming. Give a suitable example."
   ]
  },
  {
   "cell_type": "markdown",
   "id": "81ce83df-afee-4157-bed6-72228b04a07b",
   "metadata": {},
   "source": [
    "##### In object-oriented programming (OOP), a class is a blueprint or template for creating objects, while an object is an instance of a class. A class defines the properties and methods that all objects created from it will have, while an object is a specific instance of a class that has its own unique values for the properties defined in the class.\n",
    "\n",
    "##### Here is an example to illustrate the concepts of class and object in Python:"
   ]
  },
  {
   "cell_type": "code",
   "execution_count": 1,
   "id": "10d47b6e-490e-42fd-aae4-1353fc445df2",
   "metadata": {},
   "outputs": [],
   "source": [
    "class Car:\n",
    "    def __init__(self, make, model, year):\n",
    "        self.make = make\n",
    "        self.model = model\n",
    "        self.year = year\n",
    "\n",
    "    def get_info(self):\n",
    "        return f\"{self.year} {self.make} {self.model}\""
   ]
  },
  {
   "cell_type": "code",
   "execution_count": 2,
   "id": "5967e4c0-a518-446c-8b24-301f1243659d",
   "metadata": {},
   "outputs": [],
   "source": [
    "car1 = Car(\"Hyundai\", \"Creta\", 2023)"
   ]
  },
  {
   "cell_type": "code",
   "execution_count": 3,
   "id": "9b92f1fa-1ba3-4366-801d-019f0e4d08b6",
   "metadata": {},
   "outputs": [
    {
     "name": "stdout",
     "output_type": "stream",
     "text": [
      "Hyundai\n",
      "2023 Hyundai Creta\n"
     ]
    }
   ],
   "source": [
    "print(car1.make)\n",
    "print(car1.get_info())"
   ]
  },
  {
   "cell_type": "markdown",
   "id": "9e6b2bdd-3a2c-4293-8ae9-dca7749d78c7",
   "metadata": {},
   "source": [
    "#### ______________________________________________________________________________________________________________________________________________________"
   ]
  },
  {
   "cell_type": "markdown",
   "id": "1c704119-8afb-4996-bebc-0d376518cb32",
   "metadata": {},
   "source": [
    "#### Q2. Name the four pillars of OOPs."
   ]
  },
  {
   "cell_type": "markdown",
   "id": "c435d454-1b1f-4140-96b5-43afa8cad195",
   "metadata": {},
   "source": [
    "##### The four pillars of Object-Oriented Programming (OOP) are:\n",
    "\n",
    "##### Encapsulation: Encapsulation is the technique of making the fields and methods of a class private, so that they cannot be accessed directly from outside the class. Encapsulation allows for better control of the data and logic in the class, and helps to prevent unwanted interference from other parts of the program.\n",
    "\n",
    "##### Abstraction: Abstraction is the process of hiding the implementation details of a class and exposing only the essential features to the user. Abstraction helps to simplify the programming interface, making it easier to use and less prone to errors.\n",
    "\n",
    "##### Inheritance: Inheritance is the mechanism by which one class can derive properties and behaviors from another class. Inheritance promotes code reuse, reduces redundancy, and makes the code more modular and scalable.\n",
    "\n",
    "##### Polymorphism: Polymorphism is the ability of objects to take on many forms, depending on the context in which they are used. Polymorphism allows for the creation of code that can work with objects of different types, making the code more flexible and adaptable to changing requirements."
   ]
  },
  {
   "cell_type": "markdown",
   "id": "8ad3aa19-013e-4d9b-ac88-4871f2b37d3e",
   "metadata": {},
   "source": [
    "#### ______________________________________________________________________________________________________________________________________________________"
   ]
  },
  {
   "cell_type": "markdown",
   "id": "2a1191b1-f94b-4d31-ab0a-e2f39d31c334",
   "metadata": {},
   "source": [
    "#### Q3. Explain why the __init__() function is used. Give a suitable example."
   ]
  },
  {
   "cell_type": "markdown",
   "id": "03c752ab-0c4e-4b56-99e4-0a53ff9d8570",
   "metadata": {},
   "source": [
    "##### The '\\_\\_init__()' method is a special method in Python that is used to initialize the instance variables of an object. This method is called automatically when an object is created from a class, and it is typically used to set the initial state of the object.\n",
    "\n",
    "##### Here is an example to illustrate the use of the '\\_\\_init__()' method:"
   ]
  },
  {
   "cell_type": "code",
   "execution_count": 4,
   "id": "2e94a3f8-ae4b-43c9-8577-1983cb2261c6",
   "metadata": {},
   "outputs": [
    {
     "name": "stdout",
     "output_type": "stream",
     "text": [
      "Hello, my name is Anju and I'm 28 years old.\n"
     ]
    }
   ],
   "source": [
    "class Employee:\n",
    "    def __init__(self, name, age):\n",
    "        self.name = name\n",
    "        self.age = age\n",
    "\n",
    "    def intro(self):\n",
    "        print(f\"Hello, my name is {self.name} and I'm {self.age} years old.\")\n",
    "\n",
    "Employee1 = Employee(\"Anju\", 28)\n",
    "Employee1.intro()"
   ]
  },
  {
   "cell_type": "markdown",
   "id": "afa92c5f-9ac9-4b0d-b905-377535dbcf1e",
   "metadata": {},
   "source": [
    "#### ______________________________________________________________________________________________________________________________________________________"
   ]
  },
  {
   "cell_type": "markdown",
   "id": "c39f7e53-174a-436c-9b3e-b42bb1079f59",
   "metadata": {},
   "source": [
    "#### Q4. Why self is used in OOPs?"
   ]
  },
  {
   "cell_type": "markdown",
   "id": "0d27a540-831d-463a-88db-57896631e613",
   "metadata": {},
   "source": [
    "##### \"self\" is a reference to the instance of a class that a method is being called on. It is used to access the attributes and methods of the current object within the class definition.\n",
    "\n",
    "##### When a method is called on an instance of a class, the instance is passed as the first argument to the method automatically, and this first argument is conventionally named \"self\" (though it can technically be named anything). The \"self\" reference allows the method to operate on the attributes and methods of the specific instance of the class."
   ]
  },
  {
   "cell_type": "markdown",
   "id": "091ef6e1-467a-45fa-a394-8297c4559e43",
   "metadata": {},
   "source": [
    "#### ______________________________________________________________________________________________________________________________________________________"
   ]
  },
  {
   "cell_type": "markdown",
   "id": "e459fe2d-03d7-4fcd-b20d-cfeded897d92",
   "metadata": {},
   "source": [
    "#### Q5. What is inheritance? Give an example for each type of inheritance."
   ]
  },
  {
   "cell_type": "markdown",
   "id": "9e42902a-647b-49f4-9ff4-252303c7965c",
   "metadata": {},
   "source": [
    "##### Inheritance is a fundamental concept in object-oriented programming (OOP) that allows a new class to be based on an existing class, inheriting its attributes and methods. The new class is known as the \"subclass\" or \"derived class,\" and the existing class is known as the \"base class\" or \"superclass.\" Inheritance helps to reuse code, make the code more modular and flexible, and reduce code duplication.\n",
    "\n",
    "##### There are four types of inheritance in OOP:\n",
    "\n",
    "- Single inheritance is a type of inheritance in object-oriented programming (OOP) where a subclass is derived from a single parent or base class. The subclass inherits all the attributes and methods of the base class and can add its own unique attributes and methods as well. Single inheritance is the simplest and most common form of inheritance.\n",
    "\n",
    "##### Here's an example of single inheritance:"
   ]
  },
  {
   "cell_type": "code",
   "execution_count": 5,
   "id": "0a1cf195-9344-4f36-bf6b-371ad6e7db3f",
   "metadata": {},
   "outputs": [
    {
     "name": "stdout",
     "output_type": "stream",
     "text": [
      "Buddy\n",
      "3\n",
      "Golden Retriever\n",
      "The dog barks.\n"
     ]
    }
   ],
   "source": [
    "class Animal:\n",
    "    def __init__(self, name, age):\n",
    "        self.name = name\n",
    "        self.age = age\n",
    "\n",
    "    def make_sound(self):\n",
    "        print(\"The animal makes a sound.\")\n",
    "\n",
    "class Dog(Animal):\n",
    "    def __init__(self, name, age, breed):\n",
    "        super().__init__(name, age)\n",
    "        self.breed = breed\n",
    "\n",
    "    def make_sound(self):\n",
    "        print(\"The dog barks.\")\n",
    "\n",
    "dog = Dog(\"Buddy\", 3, \"Golden Retriever\")\n",
    "print(dog.name)\n",
    "print(dog.age)\n",
    "print(dog.breed)\n",
    "dog.make_sound()"
   ]
  },
  {
   "cell_type": "markdown",
   "id": "12fb67ff-0371-40dc-a606-97aceeadcaa5",
   "metadata": {},
   "source": [
    "- Multiple inheritance is a type of inheritance in object-oriented programming (OOP) where a subclass is derived from more than one base class. The subclass inherits all the attributes and methods of all the base classes, and it can also add its own unique attributes and methods.\n",
    "\n",
    "##### Here's an example of multiple inheritance:"
   ]
  },
  {
   "cell_type": "code",
   "execution_count": 6,
   "id": "75105f28-d411-45ae-9374-4872f03879a3",
   "metadata": {},
   "outputs": [
    {
     "name": "stdout",
     "output_type": "stream",
     "text": [
      "Vehicle is moving\n",
      "Playing music on frequency 101.1\n",
      "Honk honk!\n",
      "60\n",
      "Sedan\n"
     ]
    }
   ],
   "source": [
    "class Vehicle:\n",
    "    def __init__(self, speed):\n",
    "        self.speed = speed\n",
    "\n",
    "    def move(self):\n",
    "        print(\"Vehicle is moving\")\n",
    "\n",
    "class Radio:\n",
    "    def __init__(self, frequency):\n",
    "        self.frequency = frequency\n",
    "\n",
    "    def play_music(self):\n",
    "        print(\"Playing music on frequency\", self.frequency)\n",
    "\n",
    "class Car(Vehicle, Radio):\n",
    "    def __init__(self, speed, frequency, model):\n",
    "        Vehicle.__init__(self, speed)\n",
    "        Radio.__init__(self, frequency)\n",
    "        self.model = model\n",
    "\n",
    "    def honk(self):\n",
    "        print(\"Honk honk!\")\n",
    "\n",
    "car = Car(60, 101.1, \"Sedan\")\n",
    "car.move()\n",
    "car.play_music()\n",
    "car.honk()\n",
    "print(car.speed)\n",
    "print(car.model)"
   ]
  },
  {
   "cell_type": "markdown",
   "id": "f1536eed-80da-4e9b-9300-45392d594511",
   "metadata": {},
   "source": [
    "- Hierarchical inheritance is a type of inheritance in object-oriented programming (OOP) where a single parent class has multiple child classes that inherit from it. Each child class inherits all the attributes and methods of the parent class, but can also have its own unique attributes and methods.\n",
    "\n",
    "##### Here's an example of hierarchical inheritance:"
   ]
  },
  {
   "cell_type": "code",
   "execution_count": 7,
   "id": "5c86414f-573e-48f8-b73b-d2412a49f1ae",
   "metadata": {},
   "outputs": [
    {
     "name": "stdout",
     "output_type": "stream",
     "text": [
      "Circle area: 78.5\n",
      "Square area: 16\n",
      "Rectangle area: 15\n"
     ]
    }
   ],
   "source": [
    "class Shape:\n",
    "    def __init__(self, name):\n",
    "        self.name = name\n",
    "\n",
    "    def area(self):\n",
    "        pass\n",
    "\n",
    "class Circle(Shape):\n",
    "    def __init__(self, name, radius):\n",
    "        super().__init__(name)\n",
    "        self.radius = radius\n",
    "\n",
    "    def area(self):\n",
    "        return 3.14 * self.radius * self.radius\n",
    "\n",
    "class Square(Shape):\n",
    "    def __init__(self, name, side):\n",
    "        super().__init__(name)\n",
    "        self.side = side\n",
    "\n",
    "    def area(self):\n",
    "        return self.side * self.side\n",
    "\n",
    "class Rectangle(Shape):\n",
    "    def __init__(self, name, length, breadth):\n",
    "        super().__init__(name)\n",
    "        self.length = length\n",
    "        self.breadth = breadth\n",
    "\n",
    "    def area(self):\n",
    "        return self.length * self.breadth\n",
    "\n",
    "circle = Circle(\"Circle\", 5)\n",
    "square = Square(\"Square\", 4)\n",
    "rectangle = Rectangle(\"Rectangle\", 3, 5)\n",
    "\n",
    "print(circle.name, \"area:\", circle.area())\n",
    "print(square.name, \"area:\", square.area())\n",
    "print(rectangle.name, \"area:\", rectangle.area())"
   ]
  },
  {
   "cell_type": "markdown",
   "id": "743ea392-1fd9-4fe4-ba18-3780bf2ad0c3",
   "metadata": {},
   "source": [
    "- Multilevel inheritance is a type of inheritance in object-oriented programming where a subclass is derived from a base class, and then another subclass is derived from the derived class. This creates a chain of inheritance where a subclass inherits from a parent class, which in turn inherits from another parent class.\n",
    "\n",
    "##### Here's an example of multilevel inheritance:"
   ]
  },
  {
   "cell_type": "code",
   "execution_count": 8,
   "id": "9203e96a-6275-46dd-8367-7093a29cb336",
   "metadata": {},
   "outputs": [
    {
     "name": "stdout",
     "output_type": "stream",
     "text": [
      "Max is eating.\n",
      "Max is barking.\n",
      "Max is guarding.\n"
     ]
    }
   ],
   "source": [
    "class Animal:\n",
    "    def __init__(self, name):\n",
    "        self.name = name\n",
    "\n",
    "    def eat(self):\n",
    "        print(self.name, \"is eating.\")\n",
    "\n",
    "class Dog(Animal):\n",
    "    def __init__(self, name, breed):\n",
    "        super().__init__(name)\n",
    "        self.breed = breed\n",
    "\n",
    "    def bark(self):\n",
    "        print(self.name, \"is barking.\")\n",
    "\n",
    "class GermanShepherd(Dog):\n",
    "    def __init__(self, name, breed, color):\n",
    "        super().__init__(name, breed)\n",
    "        self.color = color\n",
    "\n",
    "    def guard(self):\n",
    "        print(self.name, \"is guarding.\")\n",
    "\n",
    "gs = GermanShepherd(\"Max\", \"German Shepherd\", \"Brown\")\n",
    "gs.eat()\n",
    "gs.bark()\n",
    "gs.guard()"
   ]
  },
  {
   "cell_type": "markdown",
   "id": "9ccbdf41-0334-4844-b65c-0b72a0e46277",
   "metadata": {},
   "source": [
    "- Hybrid inheritance is a combination of multiple types of inheritance, such as single inheritance, multiple inheritance, and multilevel inheritance. In hybrid inheritance, a subclass may inherit from multiple base classes using both single and multiple inheritance. This allows for more complex and flexible class hierarchies.\n",
    "\n",
    "##### Here's an example of hybrid inheritance:"
   ]
  },
  {
   "cell_type": "code",
   "execution_count": 9,
   "id": "f9bd1e57-9265-4131-9d5c-940a6b8e5e74",
   "metadata": {},
   "outputs": [
    {
     "name": "stdout",
     "output_type": "stream",
     "text": [
      "Max is eating.\n",
      "Max is playing with John\n",
      "Max is barking.\n"
     ]
    }
   ],
   "source": [
    "class Animal:\n",
    "    def __init__(self, name):\n",
    "        self.name = name\n",
    "\n",
    "    def eat(self):\n",
    "        print(self.name, \"is eating.\")\n",
    "\n",
    "class Pet:\n",
    "    def __init__(self, name, owner):\n",
    "        self.name = name\n",
    "        self.owner = owner\n",
    "\n",
    "    def play(self):\n",
    "        print(self.name, \"is playing with\", self.owner)\n",
    "\n",
    "class Dog(Animal, Pet):\n",
    "    def __init__(self, name, owner, breed):\n",
    "        Animal.__init__(self, name)\n",
    "        Pet.__init__(self, name, owner)\n",
    "        self.breed = breed\n",
    "\n",
    "    def bark(self):\n",
    "        print(self.name, \"is barking.\")\n",
    "\n",
    "d = Dog(\"Max\", \"John\", \"German Shepherd\")\n",
    "d.eat()\n",
    "d.play()\n",
    "d.bark()"
   ]
  },
  {
   "cell_type": "markdown",
   "id": "2a544737-aadf-4638-aa1d-b0b3df96472c",
   "metadata": {},
   "source": [
    "#### ______________________________________________________________________________________________________________________________________________________"
   ]
  }
 ],
 "metadata": {
  "kernelspec": {
   "display_name": "Python 3 (ipykernel)",
   "language": "python",
   "name": "python3"
  },
  "language_info": {
   "codemirror_mode": {
    "name": "ipython",
    "version": 3
   },
   "file_extension": ".py",
   "mimetype": "text/x-python",
   "name": "python",
   "nbconvert_exporter": "python",
   "pygments_lexer": "ipython3",
   "version": "3.10.8"
  }
 },
 "nbformat": 4,
 "nbformat_minor": 5
}
