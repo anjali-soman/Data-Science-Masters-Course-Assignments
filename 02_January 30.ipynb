{
 "cells": [
  {
   "cell_type": "markdown",
   "id": "dee756d7-557f-4cd9-845a-7a9eca857e3c",
   "metadata": {},
   "source": [
    "#### Q.1) Write a program to accept percentage from the user and display the grade according to the following criteria:"
   ]
  },
  {
   "cell_type": "code",
   "execution_count": 8,
   "id": "60751c61-9a81-48fe-9088-338f330e39a7",
   "metadata": {},
   "outputs": [
    {
     "name": "stdin",
     "output_type": "stream",
     "text": [
      "Enter Your Percentage 80\n"
     ]
    },
    {
     "name": "stdout",
     "output_type": "stream",
     "text": [
      "Grade C\n"
     ]
    }
   ],
   "source": [
    "percentage = int(input(\"Enter Your Percentage\"))\n",
    "\n",
    "if percentage > 90:\n",
    "    print(\"Grade A\")\n",
    "elif percentage >80 and percentage <=90:\n",
    "    print(\"Grade B\")\n",
    "elif percentage >=60 and percentage <=80:\n",
    "    print(\"Grade C\")\n",
    "else:\n",
    "    print(\"Grade D\")"
   ]
  },
  {
   "cell_type": "markdown",
   "id": "7a39d9d8-6677-4f0b-98da-3e9703b63ebb",
   "metadata": {},
   "source": [
    "#### ______________________________________________________________________________________________________________________________________________________"
   ]
  },
  {
   "cell_type": "markdown",
   "id": "40091208-4815-4657-a910-75c6b21a01be",
   "metadata": {},
   "source": [
    "#### Q.2) Write a program to accept the cost price of a bike and display the road tax to be paid according to the following criteria:"
   ]
  },
  {
   "cell_type": "code",
   "execution_count": 10,
   "id": "b2f1a7d3-e7f7-419e-ae0f-c53a32fc7a12",
   "metadata": {},
   "outputs": [
    {
     "name": "stdin",
     "output_type": "stream",
     "text": [
      "Enter The Cost Of Your Bike:  120000\n"
     ]
    },
    {
     "name": "stdout",
     "output_type": "stream",
     "text": [
      "You Have To Pay 15% Tax\n"
     ]
    }
   ],
   "source": [
    "cost = int(input(\"Enter The Cost Of Your Bike: \"))\n",
    "\n",
    "if cost > 100000:\n",
    "    print(\"You Have To Pay 15% Tax\")\n",
    "elif cost >50000 and cost <= 100000:\n",
    "    print(\"You Have To Pay 10% Tax\")\n",
    "else:\n",
    "    print(\"You Have To Pay 5% Tax\")"
   ]
  },
  {
   "cell_type": "markdown",
   "id": "7a9c69c1-1e5b-4786-917f-8f92040de3db",
   "metadata": {},
   "source": [
    "#### ______________________________________________________________________________________________________________________________________________________"
   ]
  },
  {
   "cell_type": "markdown",
   "id": "b3944f3a-ee5e-4bc5-b1ed-07222bb7c7d5",
   "metadata": {},
   "source": [
    "#### Q.3) Accept any city from the user and display monuments of that city."
   ]
  },
  {
   "cell_type": "code",
   "execution_count": 14,
   "id": "4ceb1884-737e-4f68-b55c-1a3a249a03f5",
   "metadata": {},
   "outputs": [
    {
     "name": "stdin",
     "output_type": "stream",
     "text": [
      "Enter Your City From Delhi, Agra or Jaipur And Get Your City's Monument:  Agra\n"
     ]
    },
    {
     "name": "stdout",
     "output_type": "stream",
     "text": [
      "Taj Mahal\n"
     ]
    }
   ],
   "source": [
    "city = input(\"Enter Your City From Delhi, Agra or Jaipur And Get Your City's Monument: \")\n",
    "\n",
    "if city == \"Delhi\":\n",
    "    print(\"Red Fort\")\n",
    "elif city == \"Agra\":\n",
    "    print(\"Taj Mahal\")\n",
    "elif city == \"Jaipur\":\n",
    "    print(\"Jal Mahal\")\n",
    "else:\n",
    "    print(\"You Have Not Entered City From The List Given.\")"
   ]
  },
  {
   "cell_type": "markdown",
   "id": "faf70a24-1ba8-4862-9289-874092e4afd7",
   "metadata": {},
   "source": [
    "#### ______________________________________________________________________________________________________________________________________________________"
   ]
  },
  {
   "cell_type": "markdown",
   "id": "d003cab5-c35d-440c-ba1d-ffaead19e4e9",
   "metadata": {},
   "source": [
    "#### Q.4) Check how many times a given number can be divided by 3 before it is less than or equal to 10."
   ]
  },
  {
   "cell_type": "code",
   "execution_count": 17,
   "id": "f07da445-e189-4d4c-9412-ebf71f391ca6",
   "metadata": {},
   "outputs": [
    {
     "name": "stdin",
     "output_type": "stream",
     "text": [
      "Enter A Number Greater Than 10:  18\n"
     ]
    },
    {
     "name": "stdout",
     "output_type": "stream",
     "text": [
      "3\n"
     ]
    }
   ],
   "source": [
    "n=int(input(\"Enter A Number Greater Than 10: \"))\n",
    "count=0\n",
    "while n>=10:\n",
    "    if n%3==0:\n",
    "        count=count+1\n",
    "    n=n-1\n",
    "print(count)"
   ]
  },
  {
   "cell_type": "markdown",
   "id": "9555b6a2-e0cb-4496-99df-aa33ee0a27ef",
   "metadata": {},
   "source": [
    "#### ______________________________________________________________________________________________________________________________________________________"
   ]
  },
  {
   "cell_type": "markdown",
   "id": "0d01afcc-8c0a-41ba-9e05-dc9581b8c455",
   "metadata": {},
   "source": [
    "#### Q.5) Why and When to Use while Loop in Python give a detailed description with example.\n",
    "###### A while loop can be used when the code requires a certain condition to meet. If the condition is True, the code written will work fine but it will keep running continuously. If the code is not written well to somehow end the condition, which means when the condition is not met and it is False, the loop will stop.\n",
    "\n",
    "###### Below is the example of a while loop that calculates the sum of numbers, until user finally enters 0."
   ]
  },
  {
   "cell_type": "code",
   "execution_count": 19,
   "id": "ec35c814-aacb-40c3-b8d0-2af31efc1a24",
   "metadata": {},
   "outputs": [
    {
     "name": "stdin",
     "output_type": "stream",
     "text": [
      "Enter a number:  56\n",
      "Enter a number:  8\n",
      "Enter a number:  0\n"
     ]
    },
    {
     "name": "stdout",
     "output_type": "stream",
     "text": [
      "Total = 64\n"
     ]
    }
   ],
   "source": [
    "# program to calculate the sum of numbers until the user enters zero\n",
    "\n",
    "total = 0\n",
    "number = int(input(\"Enter a number: \"))\n",
    "\n",
    "while number != 0:\n",
    "    total = total + number    \n",
    "    number = int(input(\"Enter a number: \"))\n",
    "\n",
    "print(\"Total =\", total)"
   ]
  },
  {
   "cell_type": "markdown",
   "id": "2e4a5d69-53da-4f1b-89de-aef4629eeb7b",
   "metadata": {},
   "source": [
    "#### ______________________________________________________________________________________________________________________________________________________"
   ]
  },
  {
   "cell_type": "markdown",
   "id": "a5220357-a1b6-49b6-a584-bb1262ba4272",
   "metadata": {},
   "source": [
    "#### Q.6) Use nested while loop to print 3 different pattern."
   ]
  },
  {
   "cell_type": "code",
   "execution_count": 20,
   "id": "e70179ef-3be6-47a8-9649-ffe117ff7028",
   "metadata": {},
   "outputs": [
    {
     "name": "stdout",
     "output_type": "stream",
     "text": [
      "* * * * * * \n",
      "* * * * * * \n",
      "* * * * * * \n",
      "* * * * * * \n",
      "* * * * * * \n"
     ]
    }
   ],
   "source": [
    "# square pattern\n",
    "\n",
    "i=1\n",
    "while i<=5:\n",
    "    i+=1\n",
    "    j=0\n",
    "    while j<=5:\n",
    "        print(\"*\",end=\" \")\n",
    "        j+=1\n",
    "    print()"
   ]
  },
  {
   "cell_type": "code",
   "execution_count": 21,
   "id": "5f9959f6-d5a0-4646-a55f-189c01138eb2",
   "metadata": {},
   "outputs": [
    {
     "name": "stdout",
     "output_type": "stream",
     "text": [
      "* \n",
      "* * \n",
      "* * * \n",
      "* * * * \n",
      "* * * * * \n"
     ]
    }
   ],
   "source": [
    "# right angle triangle\n",
    "\n",
    "i = 1\n",
    "while i <= 5:\n",
    "    j = 1\n",
    "    while j <= i:\n",
    "        print(\"* \", end=\"\")\n",
    "        j += 1\n",
    "    print(\"\")\n",
    "    i += 1"
   ]
  },
  {
   "cell_type": "code",
   "execution_count": 22,
   "id": "f46084bd-dc05-4401-bc64-2593000217e6",
   "metadata": {},
   "outputs": [
    {
     "name": "stdout",
     "output_type": "stream",
     "text": [
      "* * * * * \n",
      "  * * * * \n",
      "    * * * \n",
      "      * * \n",
      "        * \n"
     ]
    }
   ],
   "source": [
    "# inverse right angle triangle\n",
    "\n",
    "rows = 5\n",
    "i = rows\n",
    "while i >= 1:\n",
    "    j = rows\n",
    "    while j > i:\n",
    "        # display space\n",
    "        print(' ', end=' ')\n",
    "        j -= 1\n",
    "    k = 1\n",
    "    while k <= i:\n",
    "        print('*', end=' ')\n",
    "        k += 1\n",
    "    print()\n",
    "    i -= 1"
   ]
  },
  {
   "cell_type": "markdown",
   "id": "e162d483-0d54-4a1e-a578-6e15cd1b2d09",
   "metadata": {},
   "source": [
    "#### ______________________________________________________________________________________________________________________________________________________"
   ]
  },
  {
   "cell_type": "markdown",
   "id": "92d92806-dd17-4e8e-bbdb-4d22953a01c0",
   "metadata": {},
   "source": [
    "#### Q.7) Reverse a while loop to display numbers from 10 to 1."
   ]
  },
  {
   "cell_type": "code",
   "execution_count": 23,
   "id": "db60c0e6-db91-4cfd-92ba-49d2ddd608c4",
   "metadata": {},
   "outputs": [
    {
     "name": "stdout",
     "output_type": "stream",
     "text": [
      "10\n",
      "9\n",
      "8\n",
      "7\n",
      "6\n",
      "5\n",
      "4\n",
      "3\n",
      "2\n",
      "1\n"
     ]
    }
   ],
   "source": [
    "n=10\n",
    "\n",
    "while n!=0:\n",
    "    print(n)\n",
    "    n=n-1"
   ]
  },
  {
   "cell_type": "markdown",
   "id": "1b57211b-fc7a-4edd-87e2-259e86036169",
   "metadata": {},
   "source": [
    "#### ______________________________________________________________________________________________________________________________________________________"
   ]
  },
  {
   "cell_type": "markdown",
   "id": "a88955c1-21b6-4398-b969-a0fa540e533c",
   "metadata": {},
   "source": [
    "#### Q.8) Reverse a while loop to display numbers from 10 to 1."
   ]
  },
  {
   "cell_type": "code",
   "execution_count": 24,
   "id": "11f0475d-e480-4451-85b5-f8a8b587c94e",
   "metadata": {},
   "outputs": [
    {
     "name": "stdout",
     "output_type": "stream",
     "text": [
      "10\n",
      "9\n",
      "8\n",
      "7\n",
      "6\n",
      "5\n",
      "4\n",
      "3\n",
      "2\n",
      "1\n"
     ]
    }
   ],
   "source": [
    "n=10\n",
    "\n",
    "while n!=0:\n",
    "    print(n)\n",
    "    n=n-1"
   ]
  }
 ],
 "metadata": {
  "kernelspec": {
   "display_name": "Python 3 (ipykernel)",
   "language": "python",
   "name": "python3"
  },
  "language_info": {
   "codemirror_mode": {
    "name": "ipython",
    "version": 3
   },
   "file_extension": ".py",
   "mimetype": "text/x-python",
   "name": "python",
   "nbconvert_exporter": "python",
   "pygments_lexer": "ipython3",
   "version": "3.10.8"
  }
 },
 "nbformat": 4,
 "nbformat_minor": 5
}
