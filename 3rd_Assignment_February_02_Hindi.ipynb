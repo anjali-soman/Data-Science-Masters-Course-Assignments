{
 "cells": [
  {
   "cell_type": "markdown",
   "id": "0564a099-500b-4776-a5fe-b2b7d5fa7e72",
   "metadata": {},
   "source": [
    "#### Q.1) Explain with an example each when to use a for loop and a while loop"
   ]
  },
  {
   "cell_type": "markdown",
   "id": "0418ad91-e6bb-43f0-9520-5b4a8b361799",
   "metadata": {},
   "source": [
    "#### A for loop is used to iterate over a sequence of elements, such as a list, tuple, or string.\n",
    "##### Here's an example that prints each item in a list:"
   ]
  },
  {
   "cell_type": "code",
   "execution_count": 1,
   "id": "34a785f6-6121-4039-9fb2-5b951df1e1e9",
   "metadata": {},
   "outputs": [
    {
     "name": "stdout",
     "output_type": "stream",
     "text": [
      "apple\n",
      "banana\n",
      "cherry\n"
     ]
    }
   ],
   "source": [
    "fruits = [\"apple\", \"banana\", \"cherry\"]\n",
    "for i in fruits:\n",
    "    print(i)"
   ]
  },
  {
   "cell_type": "markdown",
   "id": "ab8b561f-2c4a-49e4-8128-95e3287843bb",
   "metadata": {},
   "source": [
    "#### A while loop is used to repeatedly execute a block of code as long as a certain condition is met.\n",
    "##### Here's an example that prints the numbers from 1 to 5:"
   ]
  },
  {
   "cell_type": "code",
   "execution_count": 2,
   "id": "bafe1b06-7547-4a63-adef-f0074888cab5",
   "metadata": {},
   "outputs": [
    {
     "name": "stdout",
     "output_type": "stream",
     "text": [
      "1\n",
      "2\n",
      "3\n",
      "4\n",
      "5\n"
     ]
    }
   ],
   "source": [
    "count = 1\n",
    "while count <= 5:\n",
    "    print(count)\n",
    "    count += 1"
   ]
  },
  {
   "cell_type": "markdown",
   "id": "93307d54-2934-4b54-a0a3-b704ee16c464",
   "metadata": {},
   "source": [
    "##### In this example, the code inside the loop will be executed repeatedly as long as the value of count is less than or equal to 5. When count reaches 6, the condition will no longer be met, and the loop will exit."
   ]
  },
  {
   "cell_type": "markdown",
   "id": "f555c787-178c-4c66-80ce-96204e3a1103",
   "metadata": {},
   "source": [
    "#### ______________________________________________________________________________________________________________________________________________________"
   ]
  },
  {
   "cell_type": "markdown",
   "id": "8dc25654-e419-499d-8a3f-b374ad56b253",
   "metadata": {},
   "source": [
    "#### Q.2) Write a python program to print the sum and product of the first 10 natural numbers using for and while loop."
   ]
  },
  {
   "cell_type": "markdown",
   "id": "42b093a6-72c6-4332-9b8f-eb202517c6bf",
   "metadata": {},
   "source": [
    "##### Here is a Python program that calculates the sum and product of the first 10 natural numbers using a for loop and a while loop:"
   ]
  },
  {
   "cell_type": "code",
   "execution_count": 3,
   "id": "f056f347-f1a6-4232-986f-32821e54eb6d",
   "metadata": {},
   "outputs": [
    {
     "name": "stdout",
     "output_type": "stream",
     "text": [
      "Sum of first 10 natural numbers (for loop): 55\n",
      "Product of first 10 natural numbers (for loop): 3628800\n",
      "Sum of first 10 natural numbers (while loop): 55\n",
      "Product of first 10 natural numbers (while loop): 3628800\n"
     ]
    }
   ],
   "source": [
    "# Using for loop\n",
    "sum = 0\n",
    "product = 1\n",
    "for i in range(1, 11):\n",
    "    sum += i\n",
    "    product *= i\n",
    "print(\"Sum of first 10 natural numbers (for loop):\", sum)\n",
    "print(\"Product of first 10 natural numbers (for loop):\", product)\n",
    "\n",
    "# Using while loop\n",
    "sum = 0\n",
    "product = 1\n",
    "i = 1\n",
    "while i <= 10:\n",
    "    sum += i\n",
    "    product *= i\n",
    "    i += 1\n",
    "print(\"Sum of first 10 natural numbers (while loop):\", sum)\n",
    "print(\"Product of first 10 natural numbers (while loop):\", product)"
   ]
  },
  {
   "cell_type": "markdown",
   "id": "16ba7dbd-1212-4600-a22a-a56c78a9fca1",
   "metadata": {},
   "source": [
    "#### ______________________________________________________________________________________________________________________________________________________"
   ]
  },
  {
   "cell_type": "markdown",
   "id": "21d58000-83ef-4704-83c2-5a02bf931377",
   "metadata": {},
   "source": [
    "#### Q.3) Create a python program to compute the electricity bill for a household.\n",
    "#### The per-unit charges in rupees are as follows: For the first 100 units, the user will be charged Rs. 4.5 per unit, for the next 100 units, the user will be charged Rs. 6 per unit, and for the next 100 units, the user will be charged Rs. 10 per unit, After 300 units and above the user will be charged Rs. 20 per unit.\n",
    "#### You are required to take the units of electricity consumed in a month from the user as input.\n",
    "#### Your program must pass this test case: when the unit of electricity consumed by the user in a month is 310, the total electricity bill should be 2250."
   ]
  },
  {
   "cell_type": "markdown",
   "id": "18cfca09-7c90-47bb-a0d7-d311ef24d1b6",
   "metadata": {},
   "source": [
    "##### Here's a Python program that computes the electricity bill for a household based on the number of units consumed:"
   ]
  },
  {
   "cell_type": "code",
   "execution_count": 4,
   "id": "a0e89c5b-c687-404d-b551-e79e0fa2d9b5",
   "metadata": {},
   "outputs": [
    {
     "name": "stdin",
     "output_type": "stream",
     "text": [
      "Enter the number of units consumed:  310\n"
     ]
    },
    {
     "name": "stdout",
     "output_type": "stream",
     "text": [
      "The total electricity bill is Rs. 2250.0\n"
     ]
    }
   ],
   "source": [
    "units = int(input(\"Enter the number of units consumed: \"))\n",
    "\n",
    "if units <= 100:\n",
    "    bill = units * 4.5\n",
    "elif units <= 200:\n",
    "    bill = 100 * 4.5 + (units - 100) * 6\n",
    "elif units <= 300:\n",
    "    bill = 100 * 4.5 + 100 * 6 + (units - 200) * 10\n",
    "else:\n",
    "    bill = 100 * 4.5 + 100 * 6 + 100 * 10 + (units - 300) * 20\n",
    "\n",
    "print(\"The total electricity bill is Rs.\", bill)"
   ]
  },
  {
   "cell_type": "markdown",
   "id": "a7772280-0d0b-4cb3-867a-07631532c5ea",
   "metadata": {},
   "source": [
    "#### ______________________________________________________________________________________________________________________________________________________"
   ]
  },
  {
   "cell_type": "markdown",
   "id": "2dba52ea-0980-4714-9826-60014d3bcf34",
   "metadata": {},
   "source": [
    "#### Q.4) Create a list of numbers from 1 to 100. Use for loop and while loop to calculate the cube of each number and if the cube of that number is divisible by 4 or 5 then append that number in a list and print that list."
   ]
  },
  {
   "cell_type": "markdown",
   "id": "a2a86cb1-a9c9-4d7f-ade5-5bfc250e551e",
   "metadata": {},
   "source": [
    "##### Here is a Python program that uses a for loop and a while loop to calculate the cube of each number from 1 to 100 and appends numbers whose cube is divisible by 4 or 5 to a list:"
   ]
  },
  {
   "cell_type": "code",
   "execution_count": 5,
   "id": "ec05caa5-ca69-44f4-9374-fb4d9be9ac83",
   "metadata": {},
   "outputs": [
    {
     "name": "stdout",
     "output_type": "stream",
     "text": [
      "Cubes divisible by 4 or 5 (for loop): [8, 64, 125, 216, 512, 1000, 1728, 2744, 3375, 4096, 5832, 8000, 10648, 13824, 15625, 17576, 21952, 27000, 32768, 39304, 42875, 46656, 54872, 64000, 74088, 85184, 91125, 97336, 110592, 125000, 140608, 157464, 166375, 175616, 195112, 216000, 238328, 262144, 274625, 287496, 314432, 343000, 373248, 405224, 421875, 438976, 474552, 512000, 551368, 592704, 614125, 636056, 681472, 729000, 778688, 830584, 857375, 884736, 941192, 1000000]\n",
      "Cubes divisible by 4 or 5 (while loop): [8, 64, 125, 216, 512, 1000, 1728, 2744, 3375, 4096, 5832, 8000, 10648, 13824, 15625, 17576, 21952, 27000, 32768, 39304, 42875, 46656, 54872, 64000, 74088, 85184, 91125, 97336, 110592, 125000, 140608, 157464, 166375, 175616, 195112, 216000, 238328, 262144, 274625, 287496, 314432, 343000, 373248, 405224, 421875, 438976, 474552, 512000, 551368, 592704, 614125, 636056, 681472, 729000, 778688, 830584, 857375, 884736, 941192, 1000000]\n"
     ]
    }
   ],
   "source": [
    "# Using for loop\n",
    "cubes_for = []\n",
    "for i in range(1, 101):\n",
    "    cube = i**3\n",
    "    if cube % 4 == 0 or cube % 5 == 0:\n",
    "        cubes_for.append(cube)\n",
    "print(\"Cubes divisible by 4 or 5 (for loop):\", cubes_for)\n",
    "\n",
    "# Using while loop\n",
    "cubes_while = []\n",
    "i = 1\n",
    "while i <= 100:\n",
    "    cube = i**3\n",
    "    if cube % 4 == 0 or cube % 5 == 0:\n",
    "        cubes_while.append(cube)\n",
    "    i += 1\n",
    "print(\"Cubes divisible by 4 or 5 (while loop):\", cubes_while)"
   ]
  },
  {
   "cell_type": "markdown",
   "id": "bb34d331-04b9-4eea-8c40-a7823e3ceb6d",
   "metadata": {},
   "source": [
    "#### ______________________________________________________________________________________________________________________________________________________"
   ]
  },
  {
   "cell_type": "markdown",
   "id": "31b05870-bd13-4596-9f71-734faa8e7d6d",
   "metadata": {},
   "source": [
    "#### Q.5) Write a program to filter count vowels in the below-given string.\n",
    "#### string = \"I want to become a data scientist\""
   ]
  },
  {
   "cell_type": "markdown",
   "id": "a248d6f6-b8a6-426f-a4c7-4c5a5d8c54a9",
   "metadata": {},
   "source": [
    "##### Here's a Python program that filters and counts the vowels in the given string:"
   ]
  },
  {
   "cell_type": "code",
   "execution_count": 6,
   "id": "93a5aa08-88bd-44ed-8fc1-7b2e69e48a56",
   "metadata": {},
   "outputs": [
    {
     "name": "stdout",
     "output_type": "stream",
     "text": [
      "Number of vowels in the string: 12\n"
     ]
    }
   ],
   "source": [
    "string = \"I want to become a data scientist\"\n",
    "vowels = \"aeiouAEIOU\"\n",
    "count = 0\n",
    "for char in string:\n",
    "    if char in vowels:\n",
    "        count += 1\n",
    "\n",
    "print(\"Number of vowels in the string:\", count)"
   ]
  }
 ],
 "metadata": {
  "kernelspec": {
   "display_name": "Python 3 (ipykernel)",
   "language": "python",
   "name": "python3"
  },
  "language_info": {
   "codemirror_mode": {
    "name": "ipython",
    "version": 3
   },
   "file_extension": ".py",
   "mimetype": "text/x-python",
   "name": "python",
   "nbconvert_exporter": "python",
   "pygments_lexer": "ipython3",
   "version": "3.10.8"
  }
 },
 "nbformat": 4,
 "nbformat_minor": 5
}
