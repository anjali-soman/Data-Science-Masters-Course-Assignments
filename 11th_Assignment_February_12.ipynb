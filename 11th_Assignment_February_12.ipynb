{
 "cells": [
  {
   "cell_type": "markdown",
   "id": "39703190-59c7-4e5f-85bc-d0c91048cf92",
   "metadata": {},
   "source": [
    "#### Q1. What is an Exception in python? Write the difference between Exceptions and Syntax errors."
   ]
  },
  {
   "cell_type": "markdown",
   "id": "83d91cf8-80c1-42e1-92d4-44767bcf16a9",
   "metadata": {},
   "source": [
    "##### In Python, an exception is an error that occurs during the execution of a program, which interrupts the normal flow of the program. Exceptions are raised when a statement or expression cannot be executed correctly.\n",
    "\n",
    "##### For example, if you try to divide a number by zero, a ZeroDivisionError exception will be raised, since dividing by zero is not a valid operation in Python.\n",
    "\n",
    "##### Exceptions in Python are a way to handle unexpected events and errors that can occur during program execution. By using exception handling, you can gracefully handle these errors and take appropriate actions, such as displaying an error message to the user or logging the error for later analysis.\n",
    "\n",
    "##### Syntax errors, on the other hand, occur when the Python interpreter cannot understand the code you have written. These errors are typically caused by mistakes such as misspelled keywords, missing parentheses, or incorrect indentation.\n",
    "\n",
    "##### The key difference between exceptions and syntax errors is that syntax errors occur before the program is executed, while exceptions occur during program execution. Syntax errors are usually easier to spot and fix, since the Python interpreter will display an error message indicating the specific line where the error occurred. Exceptions, on the other hand, can be more difficult to diagnose, since they can occur in many different parts of the code, and may not be immediately obvious to the developer."
   ]
  },
  {
   "cell_type": "markdown",
   "id": "5d8deb2d-eab2-42ea-8957-b9c443e4a882",
   "metadata": {},
   "source": [
    "#### ______________________________________________________________________________________________________________________________________________________"
   ]
  },
  {
   "cell_type": "markdown",
   "id": "46ad2b83-1f25-4118-86d8-d2e34d9cf32e",
   "metadata": {},
   "source": [
    "#### Q2. What happens when an exception is not handled? Explain with an example."
   ]
  },
  {
   "cell_type": "markdown",
   "id": "78f70f4d-197d-4cb6-8626-d45f98960726",
   "metadata": {},
   "source": [
    "##### When an exception is not handled, it causes the program to terminate abnormally, and an error message is displayed that provides information about the exception that occurred.\n",
    "\n",
    "##### Here's an example to illustrate this. Suppose we have the following Python code:"
   ]
  },
  {
   "cell_type": "code",
   "execution_count": 1,
   "id": "345bee54-7036-4527-90ae-9a908550a63e",
   "metadata": {},
   "outputs": [
    {
     "ename": "ZeroDivisionError",
     "evalue": "division by zero",
     "output_type": "error",
     "traceback": [
      "\u001b[0;31m---------------------------------------------------------------------------\u001b[0m",
      "\u001b[0;31mZeroDivisionError\u001b[0m                         Traceback (most recent call last)",
      "Cell \u001b[0;32mIn[1], line 2\u001b[0m\n\u001b[1;32m      1\u001b[0m \u001b[38;5;28;01mtry\u001b[39;00m:\n\u001b[0;32m----> 2\u001b[0m     x \u001b[38;5;241m=\u001b[39m \u001b[38;5;241;43m10\u001b[39;49m\u001b[43m \u001b[49m\u001b[38;5;241;43m/\u001b[39;49m\u001b[43m \u001b[49m\u001b[38;5;241;43m0\u001b[39;49m\n\u001b[1;32m      3\u001b[0m \u001b[38;5;28;01mexcept\u001b[39;00m \u001b[38;5;167;01mNameError\u001b[39;00m:\n\u001b[1;32m      4\u001b[0m     \u001b[38;5;28mprint\u001b[39m(\u001b[38;5;124m\"\u001b[39m\u001b[38;5;124mNameError occurred\u001b[39m\u001b[38;5;124m\"\u001b[39m)\n",
      "\u001b[0;31mZeroDivisionError\u001b[0m: division by zero"
     ]
    }
   ],
   "source": [
    "try:\n",
    "    x = 10 / 0\n",
    "except NameError:\n",
    "    print(\"NameError occurred\")"
   ]
  },
  {
   "cell_type": "markdown",
   "id": "dcc6c791-067c-4345-a84e-0eabfc826394",
   "metadata": {},
   "source": [
    "##### In this code, we are trying to divide the number 10 by 0, which will result in a 'ZeroDivisionError' exception. However, we have only provided a handler for the 'NameError' exception in the 'except' block, so the 'ZeroDivisionError' will not be caught.\n",
    "\n",
    "##### This error message indicates that a 'ZeroDivisionError' exception occurred, but it was not handled by the 'try-except' block, so the program terminated abnormally."
   ]
  },
  {
   "cell_type": "markdown",
   "id": "7bb06f34-4790-45a9-9f14-26db117d8bdd",
   "metadata": {},
   "source": [
    "#### ______________________________________________________________________________________________________________________________________________________"
   ]
  },
  {
   "cell_type": "markdown",
   "id": "0407fee8-7f84-43d7-8fa4-cf6949b3a22c",
   "metadata": {},
   "source": [
    "#### Q3. Which Python statements are used to catch and handle exceptions? Explain with an example."
   ]
  },
  {
   "cell_type": "markdown",
   "id": "d1da07ef-3861-43d7-b9b1-0d02396d68e8",
   "metadata": {},
   "source": [
    "##### In Python, the 'try' and 'except' statements are used to catch and handle exceptions. The 'try' block contains the code that might raise an exception, and the 'except' block contains the code that will be executed if an exception is raised.\n",
    "\n",
    "##### Here's an example to illustrate how to use the 'try-except' statements to catch and handle exceptions:"
   ]
  },
  {
   "cell_type": "code",
   "execution_count": 2,
   "id": "d9b755d1-3610-4c52-8220-fef25ba9a7f6",
   "metadata": {},
   "outputs": [
    {
     "name": "stdout",
     "output_type": "stream",
     "text": [
      "Cannot divide by zero!\n"
     ]
    }
   ],
   "source": [
    "try:\n",
    "    x = 10 / 0\n",
    "except ZeroDivisionError:\n",
    "    print(\"Cannot divide by zero!\")"
   ]
  },
  {
   "cell_type": "markdown",
   "id": "25e4ea4c-6eac-4b7b-94f0-61b9eef75015",
   "metadata": {},
   "source": [
    "##### In this code, we are trying to divide the number 10 by 0, which will result in a 'ZeroDivisionError' exception. We have provided a handler for this exception in the 'except' block, which will be executed if the exception is raised.\n",
    "\n",
    "##### This output (Cannot divide by zero!) indicates that the exception was caught and handled by the 'except' block, which displayed a helpful error message to the user."
   ]
  },
  {
   "cell_type": "markdown",
   "id": "0fb9d199-924d-4d9e-ac01-bb62c9400a1c",
   "metadata": {},
   "source": [
    "#### ______________________________________________________________________________________________________________________________________________________"
   ]
  },
  {
   "cell_type": "markdown",
   "id": "203d71f3-e668-4e1f-994a-8a82672cff41",
   "metadata": {},
   "source": [
    "#### Q4. Explain with an example:\n",
    "    a. try and else\n",
    "    b. finally\n",
    "    c. raise"
   ]
  },
  {
   "cell_type": "markdown",
   "id": "868c2916-5987-46e9-ab57-3c697ae23995",
   "metadata": {},
   "source": [
    "##### a. <u>'try' and 'else':<u>\n",
    "##### In Python, you can use the else block with a try block to specify code that should be executed if no exception is raised. Here's an example:"
   ]
  },
  {
   "cell_type": "code",
   "execution_count": 3,
   "id": "4a51c743-e2d3-48d9-b7cb-5671d2dbe6ad",
   "metadata": {},
   "outputs": [
    {
     "name": "stdin",
     "output_type": "stream",
     "text": [
      "Enter a number:  98\n"
     ]
    },
    {
     "name": "stdout",
     "output_type": "stream",
     "text": [
      "You entered: 98\n"
     ]
    }
   ],
   "source": [
    "try:\n",
    "    x = int(input(\"Enter a number: \"))\n",
    "except ValueError:\n",
    "    print(\"Invalid input\")\n",
    "else:\n",
    "    print(\"You entered:\", x)"
   ]
  },
  {
   "cell_type": "markdown",
   "id": "52dace0b-e212-4100-9e87-2d74ffa7c579",
   "metadata": {},
   "source": [
    "##### In this code, we use the 'try' block to attempt to convert user input to an integer. If the user enters something that can't be converted to an integer, a 'ValueError' exception is raised and the 'except' block is executed, which displays an error message. If the conversion is successful, the 'else' block is executed, which displays the converted integer."
   ]
  },
  {
   "cell_type": "markdown",
   "id": "7a2dd0cd-ea4e-4d2b-93e6-aa00103c832f",
   "metadata": {},
   "source": [
    "##### b. <u>'finally':<u>\n",
    "##### In Python, you can use the 'finally' block to specify code that should be executed regardless of whether an exception is raised. Here's an example:"
   ]
  },
  {
   "cell_type": "code",
   "execution_count": null,
   "id": "c761eeb0-77e1-4899-9b67-32bdea201074",
   "metadata": {},
   "outputs": [],
   "source": [
    "try:\n",
    "    f = open(\"myfile.txt\", \"r\")\n",
    "finally:\n",
    "    f.close()"
   ]
  },
  {
   "cell_type": "markdown",
   "id": "7d313b75-5573-4ccd-80ec-a80927f1d166",
   "metadata": {},
   "source": [
    "##### In this code, we use the 'try' block to open a file and perform some operation on it. The 'finally' block is used to ensure that the file is closed, regardless of whether an exception is raised."
   ]
  },
  {
   "cell_type": "markdown",
   "id": "233a7c01-1eda-4b66-ac18-57085d308a24",
   "metadata": {},
   "source": [
    "##### c. <u>'raise':<u>\n",
    "##### In Python, you can use the 'raise' statement to explicitly raise an exception. Here's an example:"
   ]
  },
  {
   "cell_type": "code",
   "execution_count": null,
   "id": "3083f1a0-17f6-4225-8a68-40763132da49",
   "metadata": {},
   "outputs": [],
   "source": [
    "x = -1\n",
    "if x < 0:\n",
    "    raise ValueError(\"Invalid value for x\")"
   ]
  },
  {
   "cell_type": "markdown",
   "id": "dfee86ff-7663-4a7e-be31-59486e99579e",
   "metadata": {},
   "source": [
    "##### In this code, we check if the value of 'x' is negative. If it is, we raise a 'ValueError' exception with a custom error message. This can be useful for signaling errors in your code, or for creating custom exceptions that provide more information about the error that occurred."
   ]
  },
  {
   "cell_type": "markdown",
   "id": "52ac47cd-66da-47aa-ad92-7512a917bc48",
   "metadata": {},
   "source": [
    "#### ______________________________________________________________________________________________________________________________________________________"
   ]
  },
  {
   "cell_type": "markdown",
   "id": "895ce05c-9b64-4fa7-98f4-f67fb7370fa2",
   "metadata": {},
   "source": [
    "#### Q5. What are Custom Exceptions in Python? Why do we need Custom Exceptions? Explain with an example."
   ]
  },
  {
   "cell_type": "markdown",
   "id": "a8c1e43a-7253-45be-840f-d1b620145b69",
   "metadata": {},
   "source": [
    "##### In Python, you can define your own custom exceptions by creating a new class that inherits from the built-in 'Exception' class or one of its subclasses. Custom exceptions can be useful for handling specific types of errors in your code or for providing more descriptive error messages.\n",
    "\n",
    "##### Here's an example of how to define a custom exception:"
   ]
  },
  {
   "cell_type": "code",
   "execution_count": 3,
   "id": "c0dc912f-d82e-4aec-a300-d1f411ae67e4",
   "metadata": {},
   "outputs": [],
   "source": [
    "class NegativeNumberError(Exception):\n",
    "    pass"
   ]
  },
  {
   "cell_type": "markdown",
   "id": "c2b1ddf1-f015-4d32-8fb6-7392d78dbe0d",
   "metadata": {},
   "source": [
    "##### In this code, we define a new class called 'NegativeNumberError' that inherits from the built-in 'Exception' class. We don't define any additional methods or attributes in this class, so it doesn't behave any differently from the built-in 'Exception' class. However, we can use this custom exception to handle errors that occur when negative numbers are used in our code.\n",
    "\n",
    "##### Here's an example of how to use the 'NegativeNumberError' exception in our code:"
   ]
  },
  {
   "cell_type": "code",
   "execution_count": 4,
   "id": "e290bf16-6237-463f-955d-9213847cb5fc",
   "metadata": {},
   "outputs": [],
   "source": [
    "def calculate_square_root(x):\n",
    "    if x < 0:\n",
    "        raise NegativeNumberError(\"Cannot calculate square root of a negative number\")\n",
    "    # calculate square root of x\n",
    "    return result"
   ]
  },
  {
   "cell_type": "markdown",
   "id": "e951e8b3-429a-4b0e-95ec-7887e0422a82",
   "metadata": {},
   "source": [
    "##### In this code, we define a function called 'calculate_square_root' that takes a number 'x' as input and calculates its square root. If the value of 'x' is negative, we raise a 'NegativeNumberError' exception with a custom error message. This exception can be caught and handled by an appropriate 'try-except' block.\n",
    "\n",
    "##### By defining and using custom exceptions, we can make our code more expressive and easier to understand. Custom exceptions can also help with debugging by providing more specific information about the errors that occur in our code."
   ]
  },
  {
   "cell_type": "markdown",
   "id": "0445607a-874e-4070-bd30-5ed78d8f857b",
   "metadata": {},
   "source": [
    "#### ______________________________________________________________________________________________________________________________________________________"
   ]
  },
  {
   "cell_type": "markdown",
   "id": "b15e6adc-f485-4103-9573-93a5a656d506",
   "metadata": {},
   "source": [
    "#### Q6. Create a custom exception class. Use this class to handle an exception."
   ]
  },
  {
   "cell_type": "markdown",
   "id": "4a9926a0-e672-4e2b-805d-dd47cbe0b203",
   "metadata": {},
   "source": [
    "##### Here's an example of a custom exception class and to use it to handle an exception:"
   ]
  },
  {
   "cell_type": "code",
   "execution_count": 5,
   "id": "339558c8-da12-4d42-b092-7f6ee3d77601",
   "metadata": {},
   "outputs": [
    {
     "name": "stdout",
     "output_type": "stream",
     "text": [
      "Error: Input list is empty\n"
     ]
    }
   ],
   "source": [
    "class InvalidInputError(Exception):\n",
    "    pass\n",
    "\n",
    "def calculate_average(numbers):\n",
    "    if not numbers:\n",
    "        raise InvalidInputError(\"Input list is empty\")\n",
    "    total = sum(numbers)\n",
    "    average = total / len(numbers)\n",
    "    return average\n",
    "\n",
    "try:\n",
    "    result = calculate_average([])\n",
    "except InvalidInputError as e:\n",
    "    print(\"Error:\", str(e))"
   ]
  },
  {
   "cell_type": "markdown",
   "id": "ed31703d-7692-4caf-b286-ba289be47412",
   "metadata": {},
   "source": [
    "#### ______________________________________________________________________________________________________________________________________________________"
   ]
  }
 ],
 "metadata": {
  "kernelspec": {
   "display_name": "Python 3 (ipykernel)",
   "language": "python",
   "name": "python3"
  },
  "language_info": {
   "codemirror_mode": {
    "name": "ipython",
    "version": 3
   },
   "file_extension": ".py",
   "mimetype": "text/x-python",
   "name": "python",
   "nbconvert_exporter": "python",
   "pygments_lexer": "ipython3",
   "version": "3.10.8"
  }
 },
 "nbformat": 4,
 "nbformat_minor": 5
}
